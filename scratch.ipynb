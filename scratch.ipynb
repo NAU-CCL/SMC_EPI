{
 "cells": [
  {
   "cell_type": "code",
   "execution_count": 54,
   "metadata": {},
   "outputs": [
    {
     "name": "stdout",
     "output_type": "stream",
     "text": [
      "-3.3225222781927393\n",
      "-3.2535294067057805\n"
     ]
    }
   ],
   "source": [
    "from scipy.stats import nbinom\n",
    "from scipy.special import gamma\n",
    "import numpy as np\n",
    "\n",
    "k = 15\n",
    "n = 14\n",
    "p = 0.59\n",
    "print(nbinom.logpmf(k,n,p))\n",
    "coeff = np.log(gamma(k+n))-np.log(gamma(n+1))-np.log(gamma(k))\n",
    "print(coeff+n*np.log(p)+k*np.log(1-p))\n"
   ]
  }
 ],
 "metadata": {
  "kernelspec": {
   "display_name": ".venv",
   "language": "python",
   "name": "python3"
  },
  "language_info": {
   "codemirror_mode": {
    "name": "ipython",
    "version": 3
   },
   "file_extension": ".py",
   "mimetype": "text/x-python",
   "name": "python",
   "nbconvert_exporter": "python",
   "pygments_lexer": "ipython3",
   "version": "3.11.5"
  }
 },
 "nbformat": 4,
 "nbformat_minor": 2
}

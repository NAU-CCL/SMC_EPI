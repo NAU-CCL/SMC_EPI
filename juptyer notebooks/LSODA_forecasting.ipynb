{
 "cells": [
  {
   "cell_type": "code",
   "execution_count": 1,
   "metadata": {},
   "outputs": [
    {
     "name": "stdout",
     "output_type": "stream",
     "text": [
      "[6.98804825e+06 5.49168645e+03 6.06757463e+03 3.92488525e+02\n",
      " 1.50000000e+02]\n"
     ]
    },
    {
     "data": {
      "image/png": "[encoded data removed]",
      "text/plain": [
       "<Figure size 640x480 with 1 Axes>"
      ]
     },
     "metadata": {},
     "output_type": "display_data"
    }
   ],
   "source": [
    "import numpy as np\n",
    "from scipy.stats import nbinom\n",
    "import matplotlib.pyplot as plt\n",
    "from scipy.integrate import solve_ivp\n",
    "import sys\n",
    "import pandas as pd\n",
    "\n",
    "predicted_beta = pd.read_csv('../datasets/out_logit-beta_trj_bootp.csv').to_numpy()\n",
    "predicted_beta = np.delete(predicted_beta,0,1)\n",
    "observations = pd.read_csv('../datasets/AZ_FLU_HOSPITALIZATIONS.csv').to_numpy()\n",
    "observations = np.delete(observations,0,1)\n",
    "estimated_state = pd.read_csv('../datasets/ESTIMATED_HOSP.csv').to_numpy()\n",
    "estimated_state = np.delete(estimated_state,0,1)\n",
    "\n",
    "def RHS_H(t,state,param):\n",
    "    #params has all the parameters – beta, gamma\n",
    "    #state is a numpy array\n",
    "\n",
    "        S,I,R,H,new_H = state #unpack the state variables\n",
    "        N = S + I + R + H #compute the total population \n",
    "\n",
    "        new_H = (1/param['D'])*(param['gamma']) * I\n",
    "\n",
    "        '''The state transitions of the ODE model is below'''\n",
    "        dS = -param['beta']*(S*I)/N + (1/param['L'])*R \n",
    "        dI = param['beta']*S*I/N-(1/param['D'])*I\n",
    "        dR = (1/param['hosp']) * H + ((1/param['D'])*(1-(param['gamma']))*I)-(1/param['L'])*R \n",
    "        dH = (1/param['D'])*(param['gamma']) * I - (1/param['hosp']) * H \n",
    "\n",
    "        return np.array([dS,dI,dR,dH,new_H])\n",
    "\n",
    "def Jacobian(t,state,par):\n",
    "\n",
    "    S,I,R,H,new_H = state\n",
    "    N = S + I + R + H #compute the total population \n",
    "    return np.array([[-I*par.beta(int(t))/N,\n",
    "                        -S*par.beta(int(t))/N,\n",
    "                        1/par.L,0,0,],\n",
    "                        [I*par.beta(int(t))/N,\n",
    "                        S*par.beta(int(t))/N - 1/par.D,0,0,0,],\n",
    "                        [0,(1 - par.gamma)/par.D,\n",
    "                        -1/par.L,1/par.hosp,0,],\n",
    "                        [0,par.gamma/par.D,0,\n",
    "                        -1/par.hosp,0,],\n",
    "                        [0,par.gamma/par.D,0,0,0,],])\n",
    "\n",
    "\n",
    "\n",
    "plt.plot(predicted_beta[50,:])\n",
    "def beta(t):\n",
    "    return predicted_beta[50,t]\n",
    "\n",
    "y0 = np.concatenate((estimated_state[60],np.array([150])))\n",
    "\n",
    "print(y0)\n",
    "\n",
    "t_span = [0.0,27.0]\n",
    "par={\n",
    "\"beta\":0.1,\n",
    "\"gamma\":0.1,\n",
    "\"eta\":0.1,\n",
    "\"std\":10,\n",
    "\"R\":1/10,\n",
    "\"hosp\":15,\n",
    "\"L\":90,\n",
    "\"D\":10}\n",
    "sol =  solve_ivp(fun=lambda t,z: RHS_H(t,z,par), \n",
    "                    jac=lambda t,z:Jacobian(t,z,par), \n",
    "                    t_span=(0.0,26.0),\n",
    "                    y0=y0,\n",
    "                    method='LSODA',\n",
    "                    rtol=1e-3,\n",
    "                    atol=1e-3)\n",
    "\n",
    "plt.yscale('log')\n",
    "for i in range(5):\n",
    "    plt.plot(sol.y[:,i])\n",
    "            \n",
    "\n",
    "\n"
   ]
  }
 ],
 "metadata": {
  "kernelspec": {
   "display_name": ".venv",
   "language": "python",
   "name": "python3"
  },
  "language_info": {
   "codemirror_mode": {
    "name": "ipython",
    "version": 3
   },
   "file_extension": ".py",
   "mimetype": "text/x-python",
   "name": "python",
   "nbconvert_exporter": "python",
   "pygments_lexer": "ipython3",
   "version": "3.11.5"
  }
 },
 "nbformat": 4,
 "nbformat_minor": 2
}

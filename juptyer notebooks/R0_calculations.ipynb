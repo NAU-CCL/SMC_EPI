{
 "cells": [
  {
   "cell_type": "code",
   "execution_count": 18,
   "metadata": {},
   "outputs": [
    {
     "name": "stdout",
     "output_type": "stream",
     "text": [
      "0 1\n",
      "k*β*λ/(μ*(k + μ)*(γ + μ)) 1\n"
     ]
    }
   ],
   "source": [
    "import sympy as sym\n",
    "\n",
    "S,E,I,R = sym.symbols('S E I R')\t\n",
    "β,λ,μ,γ,k = sym.symbols('β λ μ γ k')\n",
    "\n",
    "States = sym.Matrix([[S, E, I, R]])\n",
    "\n",
    "System = sym.Matrix([[-β * S * I + λ -μ * S,β * S * I -(μ + k)*E,k*E - (μ + γ) * I,γ*I - μ * R]])\n",
    "\n",
    "System.jacobian(States)\n",
    "\n",
    "'''Need to figure out exactly how these matrices are computed.'''\n",
    "\n",
    "F = sym.Matrix([[0,β*λ/μ],[0,0]])\n",
    "V = sym.Matrix([[μ + k, 0],[-k,γ + μ]])\n",
    "\n",
    "M = F * V.inv()\n",
    "\n",
    "eigenvals = M.eigenvals()\n",
    "\n",
    "for key, value in eigenvals.items() :\n",
    "    print (key, value)"
   ]
  }
 ],
 "metadata": {
  "kernelspec": {
   "display_name": ".venv",
   "language": "python",
   "name": "python3"
  },
  "language_info": {
   "codemirror_mode": {
    "name": "ipython",
    "version": 3
   },
   "file_extension": ".py",
   "mimetype": "text/x-python",
   "name": "python",
   "nbconvert_exporter": "python",
   "pygments_lexer": "ipython3",
   "version": "3.11.3"
  }
 },
 "nbformat": 4,
 "nbformat_minor": 2
}

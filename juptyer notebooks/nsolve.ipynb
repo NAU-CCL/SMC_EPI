{
 "cells": [
  {
   "cell_type": "code",
   "execution_count": 11,
   "metadata": {},
   "outputs": [
    {
     "name": "stdout",
     "output_type": "stream",
     "text": [
      "[-0.11377957 -0.04952112 -2.35720849 -2.44507729 -0.11294544]\n"
     ]
    }
   ],
   "source": [
    "import sys\n",
    "sys.path.append('../')\n",
    "\n",
    "from sympy import exp, nsolve, Symbol\n",
    "import matplotlib.pyplot as plt\n",
    "import numpy as np\n",
    "from utilities.Utils import jacob\n",
    "\n",
    "\n",
    "\n",
    "rng = np.random.default_rng(5)\n",
    "theta = np.array([rng.uniform(0.,1.) for _ in range(5)])\n",
    "weights = np.array([rng.uniform(0.,1.) for _ in range(5)])\n",
    "weights = weights / np.sum(weights)\n",
    "\n",
    "c = 100 #scale parameter\n",
    "\n",
    "deltas = np.log(weights) + np.log(np.log(c * theta))\n",
    "\n",
    "print(deltas)\n",
    "\n",
    "# x = Symbol('x')\n",
    "\n",
    "# nsolve((1 - 0.5/x) * exp(x) - 5,x,1)\n"
   ]
  }
 ],
 "metadata": {
  "kernelspec": {
   "display_name": ".venv",
   "language": "python",
   "name": "python3"
  },
  "language_info": {
   "codemirror_mode": {
    "name": "ipython",
    "version": 3
   },
   "file_extension": ".py",
   "mimetype": "text/x-python",
   "name": "python",
   "nbconvert_exporter": "python",
   "pygments_lexer": "ipython3",
   "version": "3.11.3"
  }
 },
 "nbformat": 4,
 "nbformat_minor": 2
}

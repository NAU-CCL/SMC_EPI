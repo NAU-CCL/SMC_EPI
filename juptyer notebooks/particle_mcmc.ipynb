{
 "cells": [
  {
   "cell_type": "code",
   "execution_count": 1,
   "metadata": {},
   "outputs": [],
   "source": [
    "'''Demo of particle MCMC in python'''\n",
    "\n",
    "import numpy as np\n",
    "import sys\n",
    "sys.path.append('../')\n",
    "\n",
    "from Implementations.algorithms.SMC_loop import SMC\n",
    "from Implementations.resamplers.resamplers import PoissonResample,SMCResample\n",
    "from Implementations.solvers.DeterministicSolvers import LSODACalvettiSolver\n",
    "from utilities.Utils import SMCContext,ESTIMATION\n",
    "from functools import partial\n",
    "\n",
    "\n",
    "\n",
    "'''Algorithm object encapsulating all the requirements'''\n",
    "algo = SMC(integrator=LSODACalvettiSolver(),\n",
    "           resampler= SMCResample(),\n",
    "           ctx = SMCContext(population=100_000,\n",
    "                                    state_size = 4,\n",
    "                                    weights = 5000,\n",
    "                                    seed_loc=[1,2],\n",
    "                                    seed_size=0.00005,\n",
    "                                    rng=np.random.default_rng(),\n",
    "                        particle_count=5000\n",
    "               \n",
    "           )\n",
    ")\n",
    "\n",
    "\n",
    "\n",
    "\n",
    "\n"
   ]
  }
 ],
 "metadata": {
  "kernelspec": {
   "display_name": ".venv",
   "language": "python",
   "name": "python3"
  },
  "language_info": {
   "codemirror_mode": {
    "name": "ipython",
    "version": 3
   },
   "file_extension": ".py",
   "mimetype": "text/x-python",
   "name": "python",
   "nbconvert_exporter": "python",
   "pygments_lexer": "ipython3",
   "version": "3.11.5"
  }
 },
 "nbformat": 4,
 "nbformat_minor": 2
}

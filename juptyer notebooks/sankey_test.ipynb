{
 "cells": [
  {
   "cell_type": "code",
   "execution_count": 2,
   "metadata": {},
   "outputs": [
    {
     "ename": "TypeError",
     "evalue": "Context.__init__() missing 1 required positional argument: 'sankey_indices'",
     "output_type": "error",
     "traceback": [
      "\u001b[0;31m---------------------------------------------------------------------------\u001b[0m",
      "\u001b[0;31mTypeError\u001b[0m                                 Traceback (most recent call last)",
      "Cell \u001b[0;32mIn[2], line 29\u001b[0m\n\u001b[1;32m     13\u001b[0m \u001b[39mimport\u001b[39;00m \u001b[39mplotly\u001b[39;00m\u001b[39m.\u001b[39;00m\u001b[39mgraph_objects\u001b[39;00m \u001b[39mas\u001b[39;00m \u001b[39mgo\u001b[39;00m\n\u001b[1;32m     16\u001b[0m \u001b[39m'''Algorithm object encapsulating all the requirements\u001b[39;00m\n\u001b[1;32m     17\u001b[0m \n\u001b[1;32m     18\u001b[0m \u001b[39mThe integrator is an object which runs the t->t+1 propagation of the particles, primarily using the LSODA \u001b[39;00m\n\u001b[0;32m   (...)\u001b[0m\n\u001b[1;32m     24\u001b[0m \n\u001b[1;32m     25\u001b[0m \u001b[39m'''\u001b[39;00m\n\u001b[1;32m     26\u001b[0m algo \u001b[39m=\u001b[39m TimeDependentAlgo(integrator \u001b[39m=\u001b[39m LSODASolver(),\n\u001b[1;32m     27\u001b[0m                         perturb \u001b[39m=\u001b[39m MultivariatePerturbations(hyper_params\u001b[39m=\u001b[39m{\u001b[39m\"\u001b[39m\u001b[39mh\u001b[39m\u001b[39m\"\u001b[39m:\u001b[39m0.5\u001b[39m,\u001b[39m\"\u001b[39m\u001b[39msigma1\u001b[39m\u001b[39m\"\u001b[39m:\u001b[39m0.05\u001b[39m,\u001b[39m\"\u001b[39m\u001b[39msigma2\u001b[39m\u001b[39m\"\u001b[39m:\u001b[39m0.1\u001b[39m}),\n\u001b[1;32m     28\u001b[0m                         resampler \u001b[39m=\u001b[39m NBinomResample(),\n\u001b[0;32m---> 29\u001b[0m                         ctx\u001b[39m=\u001b[39mContext(population\u001b[39m=\u001b[39;49m\u001b[39m7_700_000\u001b[39;49m,\n\u001b[1;32m     30\u001b[0m                                     state_size \u001b[39m=\u001b[39;49m \u001b[39m4\u001b[39;49m,\n\u001b[1;32m     31\u001b[0m                                     prior_weights\u001b[39m=\u001b[39;49mnp\u001b[39m.\u001b[39;49mzeros(\u001b[39m1000\u001b[39;49m),\n\u001b[1;32m     32\u001b[0m                                     pos_weights \u001b[39m=\u001b[39;49m np\u001b[39m.\u001b[39;49mzeros(\u001b[39m1000\u001b[39;49m),\n\u001b[1;32m     33\u001b[0m                                     weight_ratio\u001b[39m=\u001b[39;49mnp\u001b[39m.\u001b[39;49mones(\u001b[39m1000\u001b[39;49m),\n\u001b[1;32m     34\u001b[0m                                     seed_loc\u001b[39m=\u001b[39;49m[\u001b[39m1\u001b[39;49m],\n\u001b[1;32m     35\u001b[0m                                     seed_size\u001b[39m=\u001b[39;49m\u001b[39m0.005\u001b[39;49m,\n\u001b[1;32m     36\u001b[0m                                     forward_estimation\u001b[39m=\u001b[39;49m\u001b[39m1\u001b[39;49m,\n\u001b[1;32m     37\u001b[0m                                     rng\u001b[39m=\u001b[39;49mnp\u001b[39m.\u001b[39;49mrandom\u001b[39m.\u001b[39;49mdefault_rng(),\n\u001b[1;32m     38\u001b[0m                         particle_count\u001b[39m=\u001b[39;49m\u001b[39m100\u001b[39;49m))\n\u001b[1;32m     40\u001b[0m algo\u001b[39m.\u001b[39minitialize(params\u001b[39m=\u001b[39m{\n\u001b[1;32m     41\u001b[0m \u001b[39m\"\u001b[39m\u001b[39mbeta\u001b[39m\u001b[39m\"\u001b[39m:ESTIMATION\u001b[39m.\u001b[39mVARIABLE,\n\u001b[1;32m     42\u001b[0m \u001b[39m\"\u001b[39m\u001b[39mgamma\u001b[39m\u001b[39m\"\u001b[39m:\u001b[39m0.06\u001b[39m,\n\u001b[0;32m   (...)\u001b[0m\n\u001b[1;32m     56\u001b[0m           \u001b[39m\"\u001b[39m\u001b[39mD\u001b[39m\u001b[39m\"\u001b[39m:partial(algo\u001b[39m.\u001b[39mctx\u001b[39m.\u001b[39mrng\u001b[39m.\u001b[39muniform,\u001b[39m0\u001b[39m,\u001b[39m20\u001b[39m)\n\u001b[1;32m     57\u001b[0m           })\n\u001b[1;32m     59\u001b[0m \u001b[39m'''Runs the PF over the specified data set for the specified length of time'''\u001b[39;00m\n",
      "\u001b[0;31mTypeError\u001b[0m: Context.__init__() missing 1 required positional argument: 'sankey_indices'"
     ]
    }
   ],
   "source": [
    "'''Entry point for the particle filtering code '''\n",
    "\n",
    "import sys\n",
    "sys.path.append('../')\n",
    "import numpy as np\n",
    "\n",
    "from Implementations.algorithms.TimeDependentBeta import TimeDependentAlgo\n",
    "from Implementations.resamplers.resamplers import PoissonResample,NBinomResample\n",
    "from Implementations.solvers.DeterministicSolvers import LSODACalvettiSolver,LSODASolver,LSODASolverSEIARHD\n",
    "from Implementations.perturbers.perturbers import MultivariatePerturbations\n",
    "from utilities.Utils import Context,ESTIMATION\n",
    "from functools import partial\n",
    "import plotly.graph_objects as go\n",
    "\n",
    "\n",
    "'''Algorithm object encapsulating all the requirements\n",
    "\n",
    "The integrator is an object which runs the t->t+1 propagation of the particles, primarily using the LSODA \n",
    "integrator built in to scipy.integrate(solve_ivp)\n",
    "\n",
    "The perturb object performs multivariate perturbations on the state variables and the estimated variables\n",
    "\n",
    "The resampler computes the weights and resamples based on a known algorithm(multinomial,systematic,residual)\n",
    "\n",
    "'''\n",
    "algo = TimeDependentAlgo(integrator = LSODASolver(),\n",
    "                        perturb = MultivariatePerturbations(hyper_params={\"h\":0.5,\"sigma1\":0.05,\"sigma2\":0.1}),\n",
    "                        resampler = NBinomResample(),\n",
    "                        ctx=Context(sankey_indices=[],\n",
    "                                    population=7_700_000,\n",
    "                                    state_size = 4,\n",
    "                                    prior_weights=np.zeros(1000),\n",
    "                                    pos_weights = np.zeros(1000),\n",
    "                                    weight_ratio=np.ones(1000),\n",
    "                                    seed_loc=[1],\n",
    "                                    seed_size=0.005,\n",
    "                                    forward_estimation=1,\n",
    "                                    rng=np.random.default_rng(),\n",
    "                                    particle_count=100))\n",
    "\n",
    "algo.initialize(params={\n",
    "\"beta\":ESTIMATION.VARIABLE,\n",
    "\"gamma\":0.06,\n",
    "\"mu\":0.004,\n",
    "\"q\":0.1,\n",
    "\"eta\":1/7,\n",
    "\"std\":10,\n",
    "\"R\":50,\n",
    "\"hosp\":ESTIMATION.STATIC,\n",
    "\"L\":90,\n",
    "\"D\":10,\n",
    "}\n",
    ",priors={\"beta\":partial(algo.ctx.rng.uniform,0.1,0.6), \n",
    "          \"gamma\":partial(algo.ctx.rng.uniform,0,1/7),\n",
    "          \"eta\":partial(algo.ctx.rng.uniform,1/15,1/3),\n",
    "          \"hosp\":partial(algo.ctx.rng.uniform,5,20),\n",
    "          \"D\":partial(algo.ctx.rng.uniform,0,20)\n",
    "          })\n",
    "\n",
    "'''Runs the PF over the specified data set for the specified length of time'''\n",
    "\n",
    "#algo.print_particles()\n",
    "algo.run(f'../datasets/WA_FLU_HOSPITALIZATIONS.csv',150)\n"
   ]
  }
 ],
 "metadata": {
  "kernelspec": {
   "display_name": "Python 3",
   "language": "python",
   "name": "python3"
  },
  "language_info": {
   "codemirror_mode": {
    "name": "ipython",
    "version": 3
   },
   "file_extension": ".py",
   "mimetype": "text/x-python",
   "name": "python",
   "nbconvert_exporter": "python",
   "pygments_lexer": "ipython3",
   "version": "3.11.6"
  },
  "orig_nbformat": 4
 },
 "nbformat": 4,
 "nbformat_minor": 2
}

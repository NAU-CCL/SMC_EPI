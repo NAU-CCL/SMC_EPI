{
 "cells": [
  {
   "cell_type": "code",
   "execution_count": 31,
   "metadata": {},
   "outputs": [
    {
     "name": "stdout",
     "output_type": "stream",
     "text": [
      "0.0\n"
     ]
    }
   ],
   "source": [
    "'''Experimenting with numerical precision of floats in Python'''\n",
    "\n",
    "import numpy as np\n",
    "from scipy.stats import poisson\n",
    "\n",
    "rng = np.random.default_rng()\n",
    "observation = [4000,5644,4545,5445,3423,4143]\n",
    "\n",
    "particle_observations = [[rng.poisson(observation[i]) for i in range(len(observation))] for _ in range(1000)]\n",
    "\n",
    "weights = []\n",
    "for particle_observation in particle_observations:\n",
    "    weight = poisson.pmf(observation[0],particle_observation[0])\n",
    "    for i in range(1,len(observation)):\n",
    "        weight *= poisson.pmf(observation[i],particle_observation[i])\n",
    "    weights.append(weight)\n",
    "\n",
    "weights /= np.sum(weights)\n",
    "\n",
    "weight = poisson.pmf(200_000,300_000) * poisson.pmf(5000,4000) * poisson.pmf(4000,5000) * poisson.pmf(5000,6000)\n",
    "print(weight)\n",
    "\n"
   ]
  }
 ],
 "metadata": {
  "kernelspec": {
   "display_name": ".venv",
   "language": "python",
   "name": "python3"
  },
  "language_info": {
   "codemirror_mode": {
    "name": "ipython",
    "version": 3
   },
   "file_extension": ".py",
   "mimetype": "text/x-python",
   "name": "python",
   "nbconvert_exporter": "python",
   "pygments_lexer": "ipython3",
   "version": "3.11.5"
  }
 },
 "nbformat": 4,
 "nbformat_minor": 2
}

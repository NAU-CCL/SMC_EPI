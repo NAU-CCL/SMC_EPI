{
 "cells": [
  {
   "cell_type": "code",
   "execution_count": 13,
   "metadata": {},
   "outputs": [
    {
     "name": "stdout",
     "output_type": "stream",
     "text": [
      "[ 0.32199416 -1.01074615 -0.95813875  0.10323297]\n",
      "Using the naive approach: -0.5691936373111984\n",
      "ξ using the complex valued log: -0.5691936373111984\n"
     ]
    }
   ],
   "source": [
    "import sys\n",
    "sys.path.append('../')\n",
    "\n",
    "\n",
    "import numpy as np\n",
    "from utilities.Utils import jacob\n",
    "\n",
    "import matplotlib.pyplot as plt\n",
    "import pandas as pd\n",
    "import cmath\n",
    "\n",
    "theta = [np.random.uniform(0.,1.) for _ in range(4)]\n",
    "weights = [np.random.uniform(0.,1.) for _ in range(4)]\n",
    "weights /= np.sum(weights)\n",
    "\n",
    "log_theta = np.log(theta)\n",
    "\n",
    "log_theta[0] = log_theta[0] * -1\n",
    "log_theta[3] = log_theta[3] * -1\n",
    "\n",
    "print(log_theta)\n",
    "\n",
    "log_log = np.log(np.abs(log_theta))\n",
    "\n",
    "deltas = np.log(weights) + log_log\n",
    "\n",
    "expectation_log_theta = 0\n",
    "for i in range(len(theta)): \n",
    "    expectation_log_theta += weights[i] * np.log(theta[i])\n",
    "\n",
    "print(f\"Using the naive approach: {expectation_log_theta}\")\n",
    "\n",
    "print(f\"ξ using the complex valued log: {-1*np.exp(jacob(deltas)[-1])}\")\n",
    "\n",
    "\n",
    "\n",
    "\n",
    "\n"
   ]
  }
 ],
 "metadata": {
  "kernelspec": {
   "display_name": ".venv",
   "language": "python",
   "name": "python3"
  },
  "language_info": {
   "codemirror_mode": {
    "name": "ipython",
    "version": 3
   },
   "file_extension": ".py",
   "mimetype": "text/x-python",
   "name": "python",
   "nbconvert_exporter": "python",
   "pygments_lexer": "ipython3",
   "version": "3.11.5"
  }
 },
 "nbformat": 4,
 "nbformat_minor": 2
}

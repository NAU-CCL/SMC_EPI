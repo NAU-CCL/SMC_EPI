{
 "cells": [
  {
   "cell_type": "code",
   "execution_count": 40,
   "metadata": {},
   "outputs": [
    {
     "name": "stdout",
     "output_type": "stream",
     "text": [
      "[-1.61288322 -1.21041598]\n",
      "[[4.01271731 1.29766223]\n",
      " [1.29766223 3.17159   ]]\n"
     ]
    }
   ],
   "source": [
    "import sys\n",
    "sys.path.append('../')\n",
    "\n",
    "\n",
    "import numpy as np\n",
    "from utilities.Utils import jacob\n",
    "\n",
    "import matplotlib.pyplot as plt\n",
    "import pandas as pd\n",
    "import cmath\n",
    "\n",
    "N = 5\n",
    "rng = np.random.default_rng(5)\n",
    "theta = np.array([[rng.uniform(0.,1.) for _ in range(2)] for _ in range(N)])\n",
    "weights = np.array([rng.uniform(0.,1.) for _ in range(N)])\n",
    "weights = weights / np.sum(weights)\n",
    "\n",
    "expectation_log_theta = 0\n",
    "for i in range(len(theta)): \n",
    "    expectation_log_theta += weights[i] * np.log(theta[i])\n",
    "\n",
    "print(expectation_log_theta)\n",
    "\n",
    "'''Now for Σ '''\n",
    "psis = np.array(np.log(theta) - expectation_log_theta)\n",
    "\n",
    "Σ = 0\n",
    "for i in range(N):\n",
    "    Σ += weights[i] * np.outer(psis[i,:] - expectation_log_theta,psis[i,:]-expectation_log_theta)\n",
    "\n",
    "print(Σ)\n"
   ]
  }
 ],
 "metadata": {
  "kernelspec": {
   "display_name": ".venv",
   "language": "python",
   "name": "python3"
  },
  "language_info": {
   "codemirror_mode": {
    "name": "ipython",
    "version": 3
   },
   "file_extension": ".py",
   "mimetype": "text/x-python",
   "name": "python",
   "nbconvert_exporter": "python",
   "pygments_lexer": "ipython3",
   "version": "3.11.5"
  }
 },
 "nbformat": 4,
 "nbformat_minor": 2
}

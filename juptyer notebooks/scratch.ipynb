{
 "cells": [
  {
   "cell_type": "code",
   "execution_count": 45,
   "metadata": {},
   "outputs": [
    {
     "name": "stdout",
     "output_type": "stream",
     "text": [
      "[[1.73586969 0.33592115]\n",
      " [0.33592115 1.2344373 ]]\n",
      "[[0.59201638 0.79393562 0.03888335 0.99429838 0.07075444]\n",
      " [0.8687233  0.5949316  0.07778927 0.06929921 0.94929193]]\n",
      "[[2.63055038 3.52775316 0.1727733  4.4180399  0.31438847]\n",
      " [2.25190941 1.54218502 0.20164579 0.17963781 2.46075984]]\n"
     ]
    }
   ],
   "source": [
    "import numpy as np\n",
    "import cmath \n",
    "\n",
    "#log(theta)\n",
    "arr = np.array([[np.random.uniform(0,1) for _ in range(2)] for _ in range(5)]).T\n",
    "weights = np.array([np.random.uniform(0,1) for _ in range(5)])\n",
    "weights /= np.sum(weights)\n",
    "\n",
    "arr = np.log(arr)\n",
    "arr2 = np.copy(arr) \n",
    "\n",
    "'''Previous method'''\n",
    "\n",
    "expectation_log_theta = 0\n",
    "for i in range(5): \n",
    "    expectation_log_theta += weights[i] * arr[:,i]\n",
    "\n",
    "Σ = 0\n",
    "for i in range(5):\n",
    "    Σ += weights[i] * np.outer(arr[:,i] - expectation_log_theta,arr[:,i] - expectation_log_theta)\n",
    "\n",
    "print(Σ)\n",
    "\n",
    "'''New method'''\n",
    "\n",
    "for i in range(5): \n",
    "    arr2[:,i] = arr2[:,i] - expectation_log_theta\n",
    "\n",
    "print(np.exp(arr))\n",
    "print(np.exp(arr2))\n",
    "\n",
    "\n",
    "\n"
   ]
  }
 ],
 "metadata": {
  "kernelspec": {
   "display_name": ".venv",
   "language": "python",
   "name": "python3"
  },
  "language_info": {
   "codemirror_mode": {
    "name": "ipython",
    "version": 3
   },
   "file_extension": ".py",
   "mimetype": "text/x-python",
   "name": "python",
   "nbconvert_exporter": "python",
   "pygments_lexer": "ipython3",
   "version": "3.11.5"
  }
 },
 "nbformat": 4,
 "nbformat_minor": 2
}

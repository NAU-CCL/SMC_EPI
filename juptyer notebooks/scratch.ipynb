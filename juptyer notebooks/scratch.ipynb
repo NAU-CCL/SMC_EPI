{
 "cells": [
  {
   "cell_type": "code",
   "execution_count": 50,
   "metadata": {},
   "outputs": [
    {
     "name": "stdout",
     "output_type": "stream",
     "text": [
      "[[-1.2071577  -0.69691541 -0.17642839 -0.58094788 -0.66486784]\n",
      " [-0.10142123 -1.34356185 -0.14049235 -1.07717363 -0.930696  ]]\n",
      "[0.51652253 0.40214742]\n",
      "[[ 0.05694965 -0.00713241]\n",
      " [-0.00713241  0.18657746]]\n",
      "[[0.29904605 0.49811943 0.8382588  0.5593679  0.5143415 ]\n",
      " [0.90355235 0.26091467 0.86893032 0.34055671 0.3942792 ]]\n",
      "[[0.57896032 0.96437116 1.62288914 1.08294967 0.99577747]\n",
      " [2.24681875 0.64880356 2.16072585 0.84684544 0.9804345 ]]\n"
     ]
    }
   ],
   "source": [
    "import numpy as np\n",
    "import cmath \n",
    "\n",
    "#log(theta)\n",
    "arr = np.array([[np.random.uniform(0,1) for _ in range(2)] for _ in range(5)]).T\n",
    "weights = np.array([np.random.uniform(0,1) for _ in range(5)])\n",
    "weights /= np.sum(weights)\n",
    "\n",
    "arr = np.log(arr)\n",
    "arr2 = np.copy(arr) \n",
    "\n",
    "print(arr)\n",
    "\n",
    "'''Previous method'''\n",
    "\n",
    "expectation_log_theta = 0\n",
    "for i in range(5): \n",
    "    expectation_log_theta += weights[i] * arr[:,i]\n",
    "\n",
    "\n",
    "\n",
    "print(np.exp(expectation_log_theta))\n",
    "\n",
    "Σ = 0\n",
    "for i in range(5):\n",
    "    Σ += weights[i] * np.outer(arr[:,i] - expectation_log_theta,arr[:,i] - expectation_log_theta)\n",
    "\n",
    "print(Σ)\n",
    "\n",
    "\n",
    "\n",
    "\n",
    "'''New method'''\n",
    "\n",
    "for i in range(5): \n",
    "    arr2[:,i] = arr2[:,i] - expectation_log_theta\n",
    "\n",
    "print(np.exp(arr))\n",
    "print(np.exp(arr2))\n",
    "\n",
    "\n",
    "\n"
   ]
  },
  {
   "cell_type": "code",
   "execution_count": 2,
   "metadata": {},
   "outputs": [
    {
     "data": {
      "text/plain": [
       "0.9932517730102834"
      ]
     },
     "execution_count": 2,
     "metadata": {},
     "output_type": "execute_result"
    }
   ],
   "source": [
    "import numpy as np\n",
    "\n",
    "np.log(2.7)"
   ]
  }
 ],
 "metadata": {
  "kernelspec": {
   "display_name": ".venv",
   "language": "python",
   "name": "python3"
  },
  "language_info": {
   "codemirror_mode": {
    "name": "ipython",
    "version": 3
   },
   "file_extension": ".py",
   "mimetype": "text/x-python",
   "name": "python",
   "nbconvert_exporter": "python",
   "pygments_lexer": "ipython3",
   "version": "3.11.5"
  }
 },
 "nbformat": 4,
 "nbformat_minor": 2
}

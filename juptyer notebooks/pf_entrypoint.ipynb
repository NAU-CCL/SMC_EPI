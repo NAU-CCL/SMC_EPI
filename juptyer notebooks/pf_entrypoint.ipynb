{
 "cells": [
  {
   "cell_type": "code",
   "execution_count": 2,
   "metadata": {},
   "outputs": [
    {
     "name": "stderr",
     "output_type": "stream",
     "text": [
      "/home/andrew/.local/lib/python3.11/site-packages/scipy/integrate/_ivp/common.py:39: UserWarning:\n",
      "\n",
      "The following arguments have no effect for a chosen solver: `jac`.\n",
      "\n"
     ]
    },
    {
     "name": "stdout",
     "output_type": "stream",
     "text": [
      "Iteration: 0\n",
      "Iteration: 1\n",
      "Iteration: 2\n",
      "Iteration: 3\n",
      "Iteration: 4\n",
      "Iteration: 5\n",
      "Iteration: 6\n",
      "Iteration: 7\n",
      "Iteration: 8\n",
      "Iteration: 9\n",
      "Iteration: 10\n",
      "Iteration: 11\n",
      "Iteration: 12\n",
      "Iteration: 13\n",
      "Iteration: 14\n",
      "Iteration: 15\n",
      "Iteration: 16\n",
      "Iteration: 17\n",
      "Iteration: 18\n",
      "Iteration: 19\n",
      "Iteration: 20\n",
      "Iteration: 21\n",
      "Iteration: 22\n",
      "Iteration: 23\n",
      "Iteration: 24\n",
      "Iteration: 25\n",
      "Iteration: 26\n",
      "Iteration: 27\n",
      "Iteration: 28\n",
      "Iteration: 29\n",
      "Iteration: 30\n",
      "Iteration: 31\n",
      "Iteration: 32\n",
      "Iteration: 33\n",
      "Iteration: 34\n",
      "Iteration: 35\n",
      "Iteration: 36\n",
      "Iteration: 37\n",
      "Iteration: 38\n",
      "Iteration: 39\n",
      "Iteration: 40\n",
      "Iteration: 41\n",
      "Iteration: 42\n",
      "Iteration: 43\n",
      "Iteration: 44\n",
      "Iteration: 45\n",
      "Iteration: 46\n",
      "Iteration: 47\n",
      "Iteration: 48\n",
      "Iteration: 49\n",
      "Iteration: 50\n",
      "Iteration: 51\n",
      "Iteration: 52\n",
      "Iteration: 53\n",
      "Iteration: 54\n",
      "Iteration: 55\n",
      "Iteration: 56\n",
      "Iteration: 57\n",
      "Iteration: 58\n",
      "Iteration: 59\n",
      "Iteration: 60\n",
      "Iteration: 61\n",
      "Iteration: 62\n",
      "Iteration: 63\n",
      "Iteration: 64\n",
      "Iteration: 65\n",
      "Iteration: 66\n",
      "Iteration: 67\n",
      "Iteration: 68\n",
      "Iteration: 69\n",
      "Iteration: 70\n",
      "Iteration: 71\n",
      "Iteration: 72\n",
      "Iteration: 73\n",
      "Iteration: 74\n",
      "Iteration: 75\n",
      "Iteration: 76\n",
      "Iteration: 77\n",
      "Iteration: 78\n",
      "Iteration: 79\n",
      "Iteration: 80\n",
      "Iteration: 81\n",
      "Iteration: 82\n",
      "Iteration: 83\n",
      "Iteration: 84\n",
      "Iteration: 85\n",
      "Iteration: 86\n",
      "Iteration: 87\n",
      "Iteration: 88\n",
      "Iteration: 89\n",
      "Iteration: 90\n",
      "Iteration: 91\n",
      "Iteration: 92\n",
      "Iteration: 93\n",
      "Iteration: 94\n",
      "Iteration: 95\n",
      "Iteration: 96\n",
      "Iteration: 97\n",
      "Iteration: 98\n",
      "Iteration: 99\n",
      "Iteration: 100\n",
      "Iteration: 101\n",
      "Iteration: 102\n",
      "Iteration: 103\n",
      "Iteration: 104\n",
      "Iteration: 105\n",
      "Iteration: 106\n",
      "Iteration: 107\n",
      "Iteration: 108\n",
      "Iteration: 109\n",
      "Iteration: 110\n",
      "Iteration: 111\n",
      "Iteration: 112\n",
      "Iteration: 113\n",
      "Iteration: 114\n",
      "Iteration: 115\n",
      "Iteration: 116\n",
      "Iteration: 117\n",
      "Iteration: 118\n",
      "Iteration: 119\n",
      "Iteration: 120\n",
      "Iteration: 121\n",
      "Iteration: 122\n",
      "Iteration: 123\n",
      "Iteration: 124\n",
      "Iteration: 125\n",
      "Iteration: 126\n",
      "Iteration: 127\n",
      "Iteration: 128\n",
      "Iteration: 129\n",
      "Iteration: 130\n",
      "Iteration: 131\n",
      "Iteration: 132\n",
      "Iteration: 133\n",
      "Iteration: 134\n",
      "Iteration: 135\n",
      "Iteration: 136\n",
      "Iteration: 137\n",
      "Iteration: 138\n",
      "Iteration: 139\n",
      "Iteration: 140\n",
      "Iteration: 141\n",
      "Iteration: 142\n",
      "Iteration: 143\n",
      "Iteration: 144\n",
      "Iteration: 145\n",
      "Iteration: 146\n",
      "Iteration: 147\n",
      "Iteration: 148\n",
      "Iteration: 149\n",
      "[array([0, 1, 2, 3, 4, 5, 6, 7, 8, 9]), array([1, 1, 1, 1, 1, 1, 1, 1, 1, 1]), array([5, 2, 3, 2, 4, 3, 1, 2, 0, 2]), array([4, 1, 1, 6, 4, 4, 7, 2, 5, 6]), array([3, 9, 5, 9, 9, 0, 4, 7, 9, 9]), array([0, 2, 2, 9, 8, 2, 2, 9, 9, 0]), array([6, 9, 3, 3, 6, 5, 7, 9, 9, 3]), array([7, 8, 3, 8, 8, 8, 8, 8, 8, 8]), array([1, 8, 1, 1, 4, 3, 8, 1, 1, 1]), array([0, 3, 2, 9, 7, 9, 2, 2, 9, 2]), array([8, 5, 5, 6, 8, 6, 8, 5, 5, 8]), array([0, 9, 9, 1, 4, 9, 9, 9, 8, 0]), array([8, 2, 2, 9, 5, 2, 7, 7, 7, 2]), array([4, 9, 5, 8, 8, 6, 1, 9, 8, 8]), array([1, 9, 3, 3, 2, 3, 5, 9, 0, 3]), array([5, 5, 5, 3, 5, 5, 5, 5, 5, 5]), array([9, 6, 9, 9, 6, 9, 6, 6, 9, 7]), array([8, 8, 9, 9, 9, 8, 8, 1, 3, 8]), array([4, 0, 0, 3, 2, 0, 2, 2, 4, 4]), array([6, 6, 4, 4, 4, 4, 4, 2, 2, 3]), array([1, 1, 1, 2, 1, 1, 1, 1, 1, 3]), array([4, 5, 2, 7, 0, 0, 2, 5, 7, 1]), array([3, 3, 0, 2, 2, 3, 3, 1, 3, 3]), array([8, 2, 2, 8, 1, 8, 6, 0, 0, 8]), array([1, 8, 0, 2, 0, 0, 5, 0, 0, 0]), array([4, 8, 8, 4, 8, 8, 8, 2, 8, 8]), array([4, 8, 9, 5, 0, 3, 9, 5, 4, 5]), array([1, 3, 3, 4, 3, 1, 1, 3, 3, 3]), array([7, 4, 7, 7, 3, 0, 1, 7, 7, 7]), array([3, 0, 3, 3, 0, 5, 2, 8, 8, 3]), array([0, 4, 6, 9, 2, 0, 4, 2, 8, 4]), array([5, 2, 6, 7, 4, 9, 1, 6, 2, 7]), array([5, 5, 5, 1, 8, 5, 9, 3, 2, 5]), array([4, 8, 8, 3, 4, 8, 8, 4, 1, 2]), array([4, 8, 7, 7, 8, 7, 7, 5, 0, 0]), array([3, 6, 3, 6, 9, 3, 3, 3, 6, 3]), array([0, 6, 0, 9, 9, 9, 2, 6, 9, 6]), array([6, 0, 6, 8, 7, 9, 5, 4, 5, 4]), array([2, 8, 8, 8, 8, 8, 8, 4, 6, 8]), array([0, 5, 2, 5, 0, 9, 7, 4, 2, 3]), array([2, 2, 0, 8, 2, 3, 0, 0, 2, 2]), array([8, 8, 7, 6, 4, 8, 6, 6, 4, 7]), array([1, 2, 4, 1, 9, 4, 4, 5, 6, 2]), array([0, 5, 5, 2, 0, 3, 1, 3, 9, 7]), array([2, 4, 9, 2, 8, 0, 1, 7, 2, 7]), array([4, 5, 2, 4, 2, 5, 4, 2, 4, 2]), array([3, 7, 3, 4, 0, 0, 0, 5, 8, 2]), array([3, 7, 6, 2, 3, 9, 5, 9, 2, 0]), array([2, 9, 3, 9, 6, 5, 9, 3, 8, 8]), array([0, 2, 9, 4, 8, 5, 8, 1, 8, 0]), array([0, 0, 9, 0, 0, 9, 0, 0, 9, 0]), array([0, 6, 0, 5, 5, 9, 8, 9, 2, 7]), array([7, 0, 0, 0, 0, 2, 2, 2, 2, 0]), array([2, 1, 4, 4, 4, 4, 4, 4, 0, 2]), array([7, 0, 0, 9, 7, 5, 5, 2, 3, 2]), array([5, 1, 1, 0, 5, 5, 1, 5, 4, 2]), array([8, 0, 5, 0, 4, 2, 0, 5, 5, 5]), array([8, 1, 7, 9, 1, 7, 9, 8, 1, 9]), array([8, 6, 1, 1, 8, 3, 9, 1, 1, 4]), array([8, 8, 8, 1, 8, 1, 8, 4, 8, 2]), array([7, 9, 8, 1, 6, 7, 8, 2, 1, 8]), array([9, 0, 8, 0, 1, 8, 8, 6, 1, 0]), array([0, 4, 8, 9, 4, 2, 6, 2, 7, 0]), array([1, 2, 3, 8, 4, 6, 6, 0, 3, 3]), array([5, 5, 9, 0, 8, 8, 7, 7, 9, 6]), array([8, 5, 0, 5, 2, 5, 6, 5, 7, 5]), array([0, 0, 2, 6, 0, 9, 9, 0, 9, 5]), array([9, 1, 6, 3, 9, 8, 9, 3, 0, 1]), array([6, 6, 0, 3, 8, 6, 7, 0, 8, 7]), array([7, 4, 7, 6, 0, 8, 9, 4, 1, 4]), array([9, 7, 9, 0, 9, 8, 6, 8, 0, 4]), array([7, 5, 3, 5, 7, 8, 1, 9, 9, 2]), array([1, 3, 7, 5, 1, 2, 0, 6, 1, 4]), array([4, 6, 1, 7, 0, 5, 6, 7, 7, 2]), array([0, 4, 0, 4, 4, 4, 4, 5, 0, 4]), array([8, 1, 6, 1, 1, 6, 3, 5, 3, 6]), array([1, 3, 7, 3, 6, 7, 3, 3, 4, 1]), array([3, 1, 5, 9, 8, 9, 6, 5, 1, 5]), array([3, 6, 1, 4, 1, 4, 9, 1, 3, 1]), array([8, 5, 0, 5, 9, 5, 5, 3, 4, 2]), array([1, 1, 7, 2, 7, 5, 7, 6, 3, 2]), array([7, 4, 4, 5, 1, 9, 1, 0, 8, 2]), array([4, 3, 8, 9, 3, 9, 1, 2, 0, 7]), array([4, 6, 9, 1, 0, 1, 8, 6, 5, 8]), array([7, 9, 1, 4, 8, 5, 1, 0, 6, 9]), array([5, 6, 5, 9, 9, 9, 9, 2, 7, 5]), array([1, 3, 3, 9, 1, 7, 9, 1, 2, 8]), array([1, 2, 1, 3, 3, 4, 7, 4, 8, 5]), array([3, 0, 5, 5, 1, 0, 3, 0, 4, 5]), array([9, 9, 8, 3, 6, 6, 0, 7, 9, 2]), array([3, 8, 2, 5, 7, 9, 1, 2, 5, 8]), array([1, 4, 0, 1, 0, 0, 1, 0, 4, 7]), array([9, 6, 2, 7, 2, 5, 0, 2, 4, 9]), array([6, 0, 8, 9, 6, 2, 7, 7, 3, 5]), array([0, 1, 1, 3, 9, 2, 2, 9, 3, 5]), array([2, 6, 2, 4, 4, 4, 4, 7, 1, 0]), array([6, 6, 8, 5, 6, 7, 7, 8, 0, 3]), array([9, 2, 4, 2, 1, 9, 2, 2, 3, 7]), array([7, 1, 9, 2, 2, 5, 5, 8, 6, 3]), array([1, 6, 1, 4, 3, 4, 5, 4, 4, 5]), array([2, 6, 1, 5, 3, 8, 1, 7, 3, 9]), array([4, 8, 5, 3, 8, 6, 0, 9, 4, 0]), array([4, 9, 9, 4, 2, 3, 0, 0, 4, 6]), array([2, 3, 2, 5, 4, 7, 0, 8, 7, 1]), array([4, 5, 9, 3, 7, 3, 6, 5, 0, 3]), array([3, 8, 7, 2, 0, 7, 7, 5, 0, 2]), array([7, 2, 5, 5, 6, 2, 7, 5, 6, 5]), array([6, 2, 7, 5, 3, 7, 9, 1, 9, 9]), array([6, 9, 6, 1, 8, 5, 9, 0, 4, 9]), array([8, 1, 7, 3, 7, 2, 6, 7, 5, 9]), array([4, 8, 6, 5, 5, 6, 2, 9, 0, 2]), array([3, 2, 6, 6, 3, 2, 3, 0, 4, 2]), array([5, 4, 1, 8, 0, 8, 9, 1, 1, 9]), array([8, 0, 2, 0, 9, 1, 9, 6, 1, 0]), array([5, 8, 4, 7, 3, 6, 4, 4, 9, 2]), array([3, 4, 9, 9, 2, 5, 8, 1, 7, 2]), array([5, 9, 4, 7, 7, 9, 2, 1, 4, 2]), array([7, 3, 1, 8, 9, 6, 7, 1, 8, 0]), array([4, 3, 6, 7, 5, 2, 4, 0, 0, 7]), array([1, 0, 1, 4, 0, 1, 3, 3, 5, 4]), array([0, 3, 3, 7, 4, 7, 6, 7, 0, 0]), array([0, 1, 3, 4, 2, 6, 1, 6, 3, 7]), array([7, 0, 0, 0, 6, 6, 5, 7, 5, 4]), array([9, 6, 7, 5, 0, 6, 5, 9, 6, 1]), array([5, 6, 4, 6, 7, 2, 2, 2, 0, 3]), array([8, 1, 6, 8, 4, 8, 8, 6, 0, 9]), array([0, 2, 8, 4, 4, 3, 6, 6, 9, 4]), array([5, 9, 7, 8, 6, 8, 3, 3, 1, 4]), array([6, 6, 1, 2, 3, 4, 4, 0, 6, 0]), array([7, 4, 1, 2, 5, 2, 9, 6, 4, 6]), array([2, 4, 2, 4, 2, 5, 0, 4, 7, 4]), array([5, 9, 8, 5, 4, 6, 5, 6, 3, 0]), array([9, 5, 7, 3, 4, 6, 8, 5, 9, 7]), array([1, 6, 7, 5, 1, 0, 7, 6, 8, 2]), array([8, 1, 2, 1, 6, 4, 9, 5, 6, 5]), array([6, 9, 7, 0, 9, 0, 6, 9, 0, 7]), array([5, 0, 4, 9, 9, 0, 1, 8, 7, 0]), array([9, 1, 7, 8, 4, 2, 5, 5, 7, 5]), array([8, 3, 6, 5, 4, 1, 5, 9, 4, 1]), array([6, 3, 4, 0, 4, 0, 8, 3, 7, 8]), array([1, 9, 7, 9, 6, 2, 6, 9, 5, 3]), array([5, 0, 7, 2, 5, 4, 1, 6, 3, 7]), array([2, 9, 3, 4, 7, 5, 2, 5, 9, 8]), array([4, 9, 1, 2, 5, 3, 6, 4, 5, 6]), array([1, 7, 0, 9, 2, 5, 2, 8, 9, 7]), array([4, 5, 7, 4, 3, 7, 5, 0, 6, 9]), array([1, 8, 4, 0, 7, 4, 0, 5, 4, 3]), array([5, 2, 2, 2, 1, 2, 7, 9, 2, 3]), array([7, 1, 3, 2, 1, 2, 7, 6, 7, 0]), array([0, 1, 3, 2, 6, 7, 4, 4, 9, 4]), array([1, 9, 8, 9, 9, 7, 9, 2, 6, 9])]\n",
      "   0   1   2   3   4   5   6   7   8   9   10\n",
      "0   0   1   5   4   3   0   6   7   1   0   8\n",
      "1   1   1   2   1   9   2   9   8   8   3   5\n",
      "2   2   1   3   1   5   2   3   3   1   2   5\n",
      "3   3   1   2   6   9   9   3   8   1   9   6\n",
      "4   4   1   4   4   9   8   6   8   4   7   8\n",
      "5   5   1   3   4   0   2   5   8   3   9   6\n",
      "6   6   1   1   7   4   2   7   8   8   2   8\n",
      "7   7   1   2   2   7   9   9   8   1   2   5\n",
      "8   8   1   0   5   9   9   9   8   1   9   5\n",
      "9   9   1   2   6   9   0   3   8   1   2   8\n"
     ]
    },
    {
     "data": {
      "application/vnd.plotly.v1+json": {
       "config": {
        "plotlyServerURL": "https://plot.ly"
       },
       "data": [
        {
         "dimensions": [
          {
           "label": "0",
           "values": [
            0,
            1,
            2,
            3,
            4,
            5,
            6,
            7,
            8,
            9
           ]
          },
          {
           "label": "1",
           "values": [
            1,
            1,
            1,
            1,
            1,
            1,
            1,
            1,
            1,
            1
           ]
          },
          {
           "label": "2",
           "values": [
            5,
            2,
            3,
            2,
            4,
            3,
            1,
            2,
            0,
            2
           ]
          },
          {
           "label": "3",
           "values": [
            4,
            1,
            1,
            6,
            4,
            4,
            7,
            2,
            5,
            6
           ]
          },
          {
           "label": "4",
           "values": [
            3,
            9,
            5,
            9,
            9,
            0,
            4,
            7,
            9,
            9
           ]
          },
          {
           "label": "5",
           "values": [
            0,
            2,
            2,
            9,
            8,
            2,
            2,
            9,
            9,
            0
           ]
          },
          {
           "label": "6",
           "values": [
            6,
            9,
            3,
            3,
            6,
            5,
            7,
            9,
            9,
            3
           ]
          },
          {
           "label": "7",
           "values": [
            7,
            8,
            3,
            8,
            8,
            8,
            8,
            8,
            8,
            8
           ]
          },
          {
           "label": "8",
           "values": [
            1,
            8,
            1,
            1,
            4,
            3,
            8,
            1,
            1,
            1
           ]
          },
          {
           "label": "9",
           "values": [
            0,
            3,
            2,
            9,
            7,
            9,
            2,
            2,
            9,
            2
           ]
          },
          {
           "label": "10",
           "values": [
            8,
            5,
            5,
            6,
            8,
            6,
            8,
            5,
            5,
            8
           ]
          }
         ],
         "domain": {
          "x": [
           0,
           1
          ],
          "y": [
           0,
           1
          ]
         },
         "name": "",
         "type": "parcats"
        }
       ],
       "layout": {
        "legend": {
         "tracegroupgap": 0
        },
        "margin": {
         "t": 60
        },
        "template": {
         "data": {
          "bar": [
           {
            "error_x": {
             "color": "#2a3f5f"
            },
            "error_y": {
             "color": "#2a3f5f"
            },
            "marker": {
             "line": {
              "color": "#E5ECF6",
              "width": 0.5
             },
             "pattern": {
              "fillmode": "overlay",
              "size": 10,
              "solidity": 0.2
             }
            },
            "type": "bar"
           }
          ],
          "barpolar": [
           {
            "marker": {
             "line": {
              "color": "#E5ECF6",
              "width": 0.5
             },
             "pattern": {
              "fillmode": "overlay",
              "size": 10,
              "solidity": 0.2
             }
            },
            "type": "barpolar"
           }
          ],
          "carpet": [
           {
            "aaxis": {
             "endlinecolor": "#2a3f5f",
             "gridcolor": "white",
             "linecolor": "white",
             "minorgridcolor": "white",
             "startlinecolor": "#2a3f5f"
            },
            "baxis": {
             "endlinecolor": "#2a3f5f",
             "gridcolor": "white",
             "linecolor": "white",
             "minorgridcolor": "white",
             "startlinecolor": "#2a3f5f"
            },
            "type": "carpet"
           }
          ],
          "choropleth": [
           {
            "colorbar": {
             "outlinewidth": 0,
             "ticks": ""
            },
            "type": "choropleth"
           }
          ],
          "contour": [
           {
            "colorbar": {
             "outlinewidth": 0,
             "ticks": ""
            },
            "colorscale": [
             [
              0,
              "#0d0887"
             ],
             [
              0.1111111111111111,
              "#46039f"
             ],
             [
              0.2222222222222222,
              "#7201a8"
             ],
             [
              0.3333333333333333,
              "#9c179e"
             ],
             [
              0.4444444444444444,
              "#bd3786"
             ],
             [
              0.5555555555555556,
              "#d8576b"
             ],
             [
              0.6666666666666666,
              "#ed7953"
             ],
             [
              0.7777777777777778,
              "#fb9f3a"
             ],
             [
              0.8888888888888888,
              "#fdca26"
             ],
             [
              1,
              "#f0f921"
             ]
            ],
            "type": "contour"
           }
          ],
          "contourcarpet": [
           {
            "colorbar": {
             "outlinewidth": 0,
             "ticks": ""
            },
            "type": "contourcarpet"
           }
          ],
          "heatmap": [
           {
            "colorbar": {
             "outlinewidth": 0,
             "ticks": ""
            },
            "colorscale": [
             [
              0,
              "#0d0887"
             ],
             [
              0.1111111111111111,
              "#46039f"
             ],
             [
              0.2222222222222222,
              "#7201a8"
             ],
             [
              0.3333333333333333,
              "#9c179e"
             ],
             [
              0.4444444444444444,
              "#bd3786"
             ],
             [
              0.5555555555555556,
              "#d8576b"
             ],
             [
              0.6666666666666666,
              "#ed7953"
             ],
             [
              0.7777777777777778,
              "#fb9f3a"
             ],
             [
              0.8888888888888888,
              "#fdca26"
             ],
             [
              1,
              "#f0f921"
             ]
            ],
            "type": "heatmap"
           }
          ],
          "heatmapgl": [
           {
            "colorbar": {
             "outlinewidth": 0,
             "ticks": ""
            },
            "colorscale": [
             [
              0,
              "#0d0887"
             ],
             [
              0.1111111111111111,
              "#46039f"
             ],
             [
              0.2222222222222222,
              "#7201a8"
             ],
             [
              0.3333333333333333,
              "#9c179e"
             ],
             [
              0.4444444444444444,
              "#bd3786"
             ],
             [
              0.5555555555555556,
              "#d8576b"
             ],
             [
              0.6666666666666666,
              "#ed7953"
             ],
             [
              0.7777777777777778,
              "#fb9f3a"
             ],
             [
              0.8888888888888888,
              "#fdca26"
             ],
             [
              1,
              "#f0f921"
             ]
            ],
            "type": "heatmapgl"
           }
          ],
          "histogram": [
           {
            "marker": {
             "pattern": {
              "fillmode": "overlay",
              "size": 10,
              "solidity": 0.2
             }
            },
            "type": "histogram"
           }
          ],
          "histogram2d": [
           {
            "colorbar": {
             "outlinewidth": 0,
             "ticks": ""
            },
            "colorscale": [
             [
              0,
              "#0d0887"
             ],
             [
              0.1111111111111111,
              "#46039f"
             ],
             [
              0.2222222222222222,
              "#7201a8"
             ],
             [
              0.3333333333333333,
              "#9c179e"
             ],
             [
              0.4444444444444444,
              "#bd3786"
             ],
             [
              0.5555555555555556,
              "#d8576b"
             ],
             [
              0.6666666666666666,
              "#ed7953"
             ],
             [
              0.7777777777777778,
              "#fb9f3a"
             ],
             [
              0.8888888888888888,
              "#fdca26"
             ],
             [
              1,
              "#f0f921"
             ]
            ],
            "type": "histogram2d"
           }
          ],
          "histogram2dcontour": [
           {
            "colorbar": {
             "outlinewidth": 0,
             "ticks": ""
            },
            "colorscale": [
             [
              0,
              "#0d0887"
             ],
             [
              0.1111111111111111,
              "#46039f"
             ],
             [
              0.2222222222222222,
              "#7201a8"
             ],
             [
              0.3333333333333333,
              "#9c179e"
             ],
             [
              0.4444444444444444,
              "#bd3786"
             ],
             [
              0.5555555555555556,
              "#d8576b"
             ],
             [
              0.6666666666666666,
              "#ed7953"
             ],
             [
              0.7777777777777778,
              "#fb9f3a"
             ],
             [
              0.8888888888888888,
              "#fdca26"
             ],
             [
              1,
              "#f0f921"
             ]
            ],
            "type": "histogram2dcontour"
           }
          ],
          "mesh3d": [
           {
            "colorbar": {
             "outlinewidth": 0,
             "ticks": ""
            },
            "type": "mesh3d"
           }
          ],
          "parcoords": [
           {
            "line": {
             "colorbar": {
              "outlinewidth": 0,
              "ticks": ""
             }
            },
            "type": "parcoords"
           }
          ],
          "pie": [
           {
            "automargin": true,
            "type": "pie"
           }
          ],
          "scatter": [
           {
            "fillpattern": {
             "fillmode": "overlay",
             "size": 10,
             "solidity": 0.2
            },
            "type": "scatter"
           }
          ],
          "scatter3d": [
           {
            "line": {
             "colorbar": {
              "outlinewidth": 0,
              "ticks": ""
             }
            },
            "marker": {
             "colorbar": {
              "outlinewidth": 0,
              "ticks": ""
             }
            },
            "type": "scatter3d"
           }
          ],
          "scattercarpet": [
           {
            "marker": {
             "colorbar": {
              "outlinewidth": 0,
              "ticks": ""
             }
            },
            "type": "scattercarpet"
           }
          ],
          "scattergeo": [
           {
            "marker": {
             "colorbar": {
              "outlinewidth": 0,
              "ticks": ""
             }
            },
            "type": "scattergeo"
           }
          ],
          "scattergl": [
           {
            "marker": {
             "colorbar": {
              "outlinewidth": 0,
              "ticks": ""
             }
            },
            "type": "scattergl"
           }
          ],
          "scattermapbox": [
           {
            "marker": {
             "colorbar": {
              "outlinewidth": 0,
              "ticks": ""
             }
            },
            "type": "scattermapbox"
           }
          ],
          "scatterpolar": [
           {
            "marker": {
             "colorbar": {
              "outlinewidth": 0,
              "ticks": ""
             }
            },
            "type": "scatterpolar"
           }
          ],
          "scatterpolargl": [
           {
            "marker": {
             "colorbar": {
              "outlinewidth": 0,
              "ticks": ""
             }
            },
            "type": "scatterpolargl"
           }
          ],
          "scatterternary": [
           {
            "marker": {
             "colorbar": {
              "outlinewidth": 0,
              "ticks": ""
             }
            },
            "type": "scatterternary"
           }
          ],
          "surface": [
           {
            "colorbar": {
             "outlinewidth": 0,
             "ticks": ""
            },
            "colorscale": [
             [
              0,
              "#0d0887"
             ],
             [
              0.1111111111111111,
              "#46039f"
             ],
             [
              0.2222222222222222,
              "#7201a8"
             ],
             [
              0.3333333333333333,
              "#9c179e"
             ],
             [
              0.4444444444444444,
              "#bd3786"
             ],
             [
              0.5555555555555556,
              "#d8576b"
             ],
             [
              0.6666666666666666,
              "#ed7953"
             ],
             [
              0.7777777777777778,
              "#fb9f3a"
             ],
             [
              0.8888888888888888,
              "#fdca26"
             ],
             [
              1,
              "#f0f921"
             ]
            ],
            "type": "surface"
           }
          ],
          "table": [
           {
            "cells": {
             "fill": {
              "color": "#EBF0F8"
             },
             "line": {
              "color": "white"
             }
            },
            "header": {
             "fill": {
              "color": "#C8D4E3"
             },
             "line": {
              "color": "white"
             }
            },
            "type": "table"
           }
          ]
         },
         "layout": {
          "annotationdefaults": {
           "arrowcolor": "#2a3f5f",
           "arrowhead": 0,
           "arrowwidth": 1
          },
          "autotypenumbers": "strict",
          "coloraxis": {
           "colorbar": {
            "outlinewidth": 0,
            "ticks": ""
           }
          },
          "colorscale": {
           "diverging": [
            [
             0,
             "#8e0152"
            ],
            [
             0.1,
             "#c51b7d"
            ],
            [
             0.2,
             "#de77ae"
            ],
            [
             0.3,
             "#f1b6da"
            ],
            [
             0.4,
             "#fde0ef"
            ],
            [
             0.5,
             "#f7f7f7"
            ],
            [
             0.6,
             "#e6f5d0"
            ],
            [
             0.7,
             "#b8e186"
            ],
            [
             0.8,
             "#7fbc41"
            ],
            [
             0.9,
             "#4d9221"
            ],
            [
             1,
             "#276419"
            ]
           ],
           "sequential": [
            [
             0,
             "#0d0887"
            ],
            [
             0.1111111111111111,
             "#46039f"
            ],
            [
             0.2222222222222222,
             "#7201a8"
            ],
            [
             0.3333333333333333,
             "#9c179e"
            ],
            [
             0.4444444444444444,
             "#bd3786"
            ],
            [
             0.5555555555555556,
             "#d8576b"
            ],
            [
             0.6666666666666666,
             "#ed7953"
            ],
            [
             0.7777777777777778,
             "#fb9f3a"
            ],
            [
             0.8888888888888888,
             "#fdca26"
            ],
            [
             1,
             "#f0f921"
            ]
           ],
           "sequentialminus": [
            [
             0,
             "#0d0887"
            ],
            [
             0.1111111111111111,
             "#46039f"
            ],
            [
             0.2222222222222222,
             "#7201a8"
            ],
            [
             0.3333333333333333,
             "#9c179e"
            ],
            [
             0.4444444444444444,
             "#bd3786"
            ],
            [
             0.5555555555555556,
             "#d8576b"
            ],
            [
             0.6666666666666666,
             "#ed7953"
            ],
            [
             0.7777777777777778,
             "#fb9f3a"
            ],
            [
             0.8888888888888888,
             "#fdca26"
            ],
            [
             1,
             "#f0f921"
            ]
           ]
          },
          "colorway": [
           "#636efa",
           "#EF553B",
           "#00cc96",
           "#ab63fa",
           "#FFA15A",
           "#19d3f3",
           "#FF6692",
           "#B6E880",
           "#FF97FF",
           "#FECB52"
          ],
          "font": {
           "color": "#2a3f5f"
          },
          "geo": {
           "bgcolor": "white",
           "lakecolor": "white",
           "landcolor": "#E5ECF6",
           "showlakes": true,
           "showland": true,
           "subunitcolor": "white"
          },
          "hoverlabel": {
           "align": "left"
          },
          "hovermode": "closest",
          "mapbox": {
           "style": "light"
          },
          "paper_bgcolor": "white",
          "plot_bgcolor": "#E5ECF6",
          "polar": {
           "angularaxis": {
            "gridcolor": "white",
            "linecolor": "white",
            "ticks": ""
           },
           "bgcolor": "#E5ECF6",
           "radialaxis": {
            "gridcolor": "white",
            "linecolor": "white",
            "ticks": ""
           }
          },
          "scene": {
           "xaxis": {
            "backgroundcolor": "#E5ECF6",
            "gridcolor": "white",
            "gridwidth": 2,
            "linecolor": "white",
            "showbackground": true,
            "ticks": "",
            "zerolinecolor": "white"
           },
           "yaxis": {
            "backgroundcolor": "#E5ECF6",
            "gridcolor": "white",
            "gridwidth": 2,
            "linecolor": "white",
            "showbackground": true,
            "ticks": "",
            "zerolinecolor": "white"
           },
           "zaxis": {
            "backgroundcolor": "#E5ECF6",
            "gridcolor": "white",
            "gridwidth": 2,
            "linecolor": "white",
            "showbackground": true,
            "ticks": "",
            "zerolinecolor": "white"
           }
          },
          "shapedefaults": {
           "line": {
            "color": "#2a3f5f"
           }
          },
          "ternary": {
           "aaxis": {
            "gridcolor": "white",
            "linecolor": "white",
            "ticks": ""
           },
           "baxis": {
            "gridcolor": "white",
            "linecolor": "white",
            "ticks": ""
           },
           "bgcolor": "#E5ECF6",
           "caxis": {
            "gridcolor": "white",
            "linecolor": "white",
            "ticks": ""
           }
          },
          "title": {
           "x": 0.05
          },
          "xaxis": {
           "automargin": true,
           "gridcolor": "white",
           "linecolor": "white",
           "ticks": "",
           "title": {
            "standoff": 15
           },
           "zerolinecolor": "white",
           "zerolinewidth": 2
          },
          "yaxis": {
           "automargin": true,
           "gridcolor": "white",
           "linecolor": "white",
           "ticks": "",
           "title": {
            "standoff": 15
           },
           "zerolinecolor": "white",
           "zerolinewidth": 2
          }
         }
        }
       }
      }
     },
     "metadata": {},
     "output_type": "display_data"
    },
    {
     "name": "stdout",
     "output_type": "stream",
     "text": [
      "func:'run' args:[(<Implementations.algorithms.TimeDependentBeta.TimeDependentAlgo object at 0x7fd1680c0c90>, '../datasets/WA_FLU_HOSPITALIZATIONS.csv', 150), {}] took: 1.2260 sec\n"
     ]
    }
   ],
   "source": [
    "'''Entry point for the particle filtering code '''\n",
    "\n",
    "import sys\n",
    "sys.path.append('../')\n",
    "import numpy as np\n",
    "\n",
    "from Implementations.algorithms.TimeDependentBeta import TimeDependentAlgo\n",
    "from Implementations.resamplers.resamplers import PoissonResample,NBinomResample\n",
    "from Implementations.solvers.DeterministicSolvers import LSODACalvettiSolver,LSODASolver,LSODASolverSEIARHD\n",
    "from Implementations.perturbers.perturbers import MultivariatePerturbations\n",
    "from utilities.Utils import Context,ESTIMATION\n",
    "from functools import partial\n",
    "\n",
    "\n",
    "'''Algorithm object encapsulating all the requirements\n",
    "\n",
    "The integrator is an object which runs the t->t+1 propagation of the particles, primarily using the LSODA \n",
    "integrator built in to scipy.integrate(solve_ivp)\n",
    "\n",
    "The perturb object performs multivariate perturbations on the state variables and the estimated variables\n",
    "\n",
    "The resampler computes the weights and resamples based on a known algorithm(multinomial,systematic,residual)\n",
    "\n",
    "\n",
    "\n",
    "'''\n",
    "algo = TimeDependentAlgo(integrator = LSODASolver(),\n",
    "                        perturb = MultivariatePerturbations(hyper_params={\"h\":0.5,\"sigma1\":0.05,\"sigma2\":0.1}),\n",
    "                        resampler = NBinomResample(),\n",
    "                        ctx=Context(sankey_indices = [],\n",
    "                                    population=7_700_000,\n",
    "                                    state_size = 4,\n",
    "                                    prior_weights=np.zeros(1000),\n",
    "                                    pos_weights = np.zeros(1000),\n",
    "                                    weight_ratio=np.ones(1000),\n",
    "                                    seed_loc=[1],\n",
    "                                    seed_size=0.005,\n",
    "                                    forward_estimation=1,\n",
    "                                    rng=np.random.default_rng(),\n",
    "                        particle_count=10))\n",
    "\n",
    "algo.initialize(params={\n",
    "\"beta\":ESTIMATION.VARIABLE,\n",
    "\"gamma\":0.06,\n",
    "\"mu\":0.004,\n",
    "\"q\":0.1,\n",
    "\"eta\":1/7,\n",
    "\"std\":10,\n",
    "\"R\":50,\n",
    "\"hosp\":ESTIMATION.STATIC,\n",
    "\"L\":90,\n",
    "\"D\":10,\n",
    "}\n",
    ",priors={\"beta\":partial(algo.ctx.rng.uniform,0.1,0.6), \n",
    "          \"gamma\":partial(algo.ctx.rng.uniform,0,1/7),\n",
    "          \"eta\":partial(algo.ctx.rng.uniform,1/15,1/3),\n",
    "          \"hosp\":partial(algo.ctx.rng.uniform,5,20),\n",
    "          \"D\":partial(algo.ctx.rng.uniform,0,20)\n",
    "          })\n",
    "\n",
    "'''Runs the PF over the specified data set for the specified length of time'''\n",
    "\n",
    "#algo.print_particles()\n",
    "algo.run(f'../datasets/WA_FLU_HOSPITALIZATIONS.csv',150)\n",
    "\n"
   ]
  }
 ],
 "metadata": {
  "kernelspec": {
   "display_name": ".venv",
   "language": "python",
   "name": "python3"
  },
  "language_info": {
   "codemirror_mode": {
    "name": "ipython",
    "version": 3
   },
   "file_extension": ".py",
   "mimetype": "text/x-python",
   "name": "python",
   "nbconvert_exporter": "python",
   "pygments_lexer": "ipython3",
   "version": "3.11.6"
  }
 },
 "nbformat": 4,
 "nbformat_minor": 2
}

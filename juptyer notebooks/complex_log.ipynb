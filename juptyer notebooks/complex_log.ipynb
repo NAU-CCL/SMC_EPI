{
 "cells": [
  {
   "cell_type": "code",
   "execution_count": 2,
   "metadata": {},
   "outputs": [
    {
     "name": "stdout",
     "output_type": "stream",
     "text": [
      "Using the naive approach: -1.5990854435992887\n",
      "ξ using the complex valued log: -1.599085443599289\n"
     ]
    }
   ],
   "source": [
    "'''An analysis of how to compute the logarithm of the quantity ξ in Calvetti et. al. , uses the complex valued logarithm. \n",
    "As we end up exponentiating the result, Euler's identity results in a number of sign changes, but the results are identical to the lin domain. '''\n",
    "\n",
    "\n",
    "\n",
    "\n",
    "import sys\n",
    "sys.path.append('../')\n",
    "import matplotlib.pyplot as plt\n",
    "import numpy as np\n",
    "from utilities.Utils import jacob\n",
    "\n",
    "\n",
    "\n",
    "rng = np.random.default_rng(5)\n",
    "theta = np.array([rng.uniform(0.,1.) for _ in range(10)])\n",
    "weights = np.array([rng.uniform(0.,1.) for _ in range(10)])\n",
    "weights = weights / np.sum(weights)\n",
    "\n",
    "\n",
    "'''Computing ln(sum(weights * ln(theta)))'''\n",
    "\n",
    "\n",
    "\n",
    "expectation_log_theta = 0\n",
    "for i in range(len(theta)): \n",
    "    expectation_log_theta += weights[i] * np.log(theta[i])\n",
    "\n",
    "print(f\"Using the naive approach: {expectation_log_theta}\")\n",
    "\n",
    "deltas = np.zeros(len(theta))\n",
    "\n",
    "for i in range(len(deltas)): \n",
    "    log_theta = np.log(theta[i])\n",
    "    log_log = np.log(np.abs(log_theta))\n",
    "    deltas[i] = np.log(weights[i]) + log_log\n",
    "\n",
    "\n",
    "print(f\"ξ using the complex valued log: {-1 * np.exp(jacob(deltas)[-1])}\")\n",
    "\n",
    "ξ = -1 * np.exp(jacob(deltas)[-1])\n",
    "\n",
    "\n",
    "\n",
    "\n",
    "\n",
    "\n"
   ]
  },
  {
   "cell_type": "code",
   "execution_count": 3,
   "metadata": {},
   "outputs": [
    {
     "name": "stdout",
     "output_type": "stream",
     "text": [
      "[-1.51339906 -2.53124622 -2.69810631 -3.87873589 -1.28478435 -2.79445164\n",
      " -3.37167998 -1.63530179 -1.42025905 -3.59586082]\n",
      "Σ using the naive approach: 1.2239025881496943\n",
      "Σ using the complex valued log: 1.2239025881496943\n"
     ]
    },
    {
     "data": {
      "text/plain": [
       "'This only covers theta as a single value, we need a slightly more advanced approach for higher dimensional theta vectors'"
      ]
     },
     "execution_count": 3,
     "metadata": {},
     "output_type": "execute_result"
    }
   ],
   "source": [
    "'''How to compute the logarithm of the quantity Σ in Calvetti et al. using the complex valued logarithm and matrix exponentials.\n",
    "We have the quantity ξ from above and will resuse it here. '''\n",
    "\n",
    "\n",
    "psis = np.array(np.log(theta) - ξ)\n",
    "\n",
    "deltas = np.zeros(len(theta))\n",
    "for i in range(len(deltas)): \n",
    "    deltas[i] = np.log(weights[i]) + np.log(psis[i] ** 2)\n",
    "\n",
    "print(deltas)\n",
    "\n",
    "cov = 0\n",
    "for i in range(len(theta)):\n",
    "    cov += weights[i] * ((np.log(theta[i]) - ξ) ** 2)\n",
    "    \n",
    "\n",
    "print(f\"Σ using the naive approach: {cov}\")\n",
    "print(f\"Σ using the complex valued log: {np.exp(jacob(deltas)[-1])}\")\n",
    "\n",
    "'''This only covers theta as a single value, we need a slightly more advanced approach for higher dimensional theta vectors'''\n",
    "\n",
    "\n",
    "\n",
    "\n",
    "\n",
    "\n",
    "\n",
    "\n",
    "\n",
    "\n",
    "\n",
    "\n",
    "\n"
   ]
  },
  {
   "cell_type": "code",
   "execution_count": 12,
   "metadata": {},
   "outputs": [
    {
     "name": "stdout",
     "output_type": "stream",
     "text": [
      "Using the naive approach: [-0.40812203 -1.11460911 -1.74232264]\n",
      "ξ using the complex valued log: [-0.40812203 -1.11460911 -1.74232264]\n",
      "ξ using the lin domain: [[0.30882339 0.58863307 0.77967427]\n",
      " [0.58863307 2.79004821 1.7230248 ]\n",
      " [0.77967427 1.7230248  4.84550668]]\n"
     ]
    }
   ],
   "source": [
    "'''For high dimensional theta, some log terms in the covariance matrix may be negative, requiring us to handle each case differently'''\n",
    "\n",
    "N = 10\n",
    "rng = np.random.default_rng(5)\n",
    "theta = np.array([[rng.uniform(0.,1.) for _ in range(3)] for _ in range(N)])\n",
    "weights = np.array([rng.uniform(0.,1.) for _ in range(N)])\n",
    "weights = weights / np.sum(weights)\n",
    "\n",
    "expectation_log_theta = 0\n",
    "for i in range(len(theta)): \n",
    "    expectation_log_theta += weights[i] * np.log(theta[i])\n",
    "\n",
    "print(f\"Using the naive approach: {expectation_log_theta}\")\n",
    "\n",
    "\n",
    "\n",
    "deltas = np.zeros((N,3))\n",
    "\n",
    "\n",
    "'''Theta matrix needs to be shape num_particles * len(theta)'''\n",
    "for i in range(theta.shape[1]): \n",
    "    sub_theta = theta[:,i]\n",
    "    for j in range(theta.shape[0]):\n",
    "        log_theta = np.log(sub_theta[j])\n",
    "        log_log = np.log(np.abs(log_theta))\n",
    "\n",
    "        deltas[j,i] = np.log(weights[j]) + log_log\n",
    "\n",
    "\n",
    "ξ = []\n",
    "for i in range(theta.shape[1]): \n",
    "   ξ.append(-1 * np.exp(jacob(deltas[:,i])))\n",
    "\n",
    "ξ = np.array(ξ)[:,-1]\n",
    "\n",
    "print(f\"ξ using the complex valued log: {ξ}\")\n",
    "\n",
    "'''Now for Σ '''\n",
    "psis = np.array(np.log(theta) - ξ)\n",
    "\n",
    "\n",
    "Σ = 0\n",
    "for i in range(N):\n",
    "    Σ += weights[i] * np.outer(psis[i,:] - ξ,psis[i,:]-ξ)\n",
    "\n",
    "print(f\"ξ using the naive approach: {Σ}\")\n",
    "\n",
    "\n",
    "\n"
   ]
  }
 ],
 "metadata": {
  "kernelspec": {
   "display_name": ".venv",
   "language": "python",
   "name": "python3"
  },
  "language_info": {
   "codemirror_mode": {
    "name": "ipython",
    "version": 3
   },
   "file_extension": ".py",
   "mimetype": "text/x-python",
   "name": "python",
   "nbconvert_exporter": "python",
   "pygments_lexer": "ipython3",
   "version": "3.11.5"
  }
 },
 "nbformat": 4,
 "nbformat_minor": 2
}

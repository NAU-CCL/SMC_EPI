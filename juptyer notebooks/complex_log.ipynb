{
 "cells": [
  {
   "cell_type": "code",
   "execution_count": 1,
   "metadata": {},
   "outputs": [
    {
     "name": "stdout",
     "output_type": "stream",
     "text": [
      "Using the naive approach: -1.6864274793292386\n",
      "ξ using the complex valued log: -1.6864274793292384\n"
     ]
    }
   ],
   "source": [
    "'''An analysis of how to compute the logarithm of the quantity ξ in Calvetti et. al. , uses the complex valued logarithm. \n",
    "As we end up exponentiating the result, Euler's identity results in a number of sign changes, but the results are identical to the lin domain. '''\n",
    "\n",
    "\n",
    "\n",
    "\n",
    "import sys\n",
    "sys.path.append('../')\n",
    "import matplotlib.pyplot as plt\n",
    "import numpy as np\n",
    "from utilities.Utils import jacob\n",
    "\n",
    "\n",
    "\n",
    "rng = np.random.default_rng(5)\n",
    "theta = np.array([rng.uniform(0.,1.) for _ in range(5)])\n",
    "weights = np.array([rng.uniform(0.,1.) for _ in range(5)])\n",
    "weights = weights / np.sum(weights)\n",
    "\n",
    "\n",
    "'''Computing ln(sum(weights * ln(theta)))'''\n",
    "\n",
    "\n",
    "\n",
    "expectation_log_theta = 0\n",
    "for i in range(len(theta)): \n",
    "    expectation_log_theta += weights[i] * np.log(theta[i])\n",
    "\n",
    "print(f\"Using the naive approach: {expectation_log_theta}\")\n",
    "\n",
    "deltas = np.zeros(len(theta))\n",
    "\n",
    "for i in range(len(deltas)): \n",
    "    log_theta = np.log(theta[i])\n",
    "    log_log = np.log(np.abs(log_theta))\n",
    "    deltas[i] = np.log(weights[i]) + log_log\n",
    "\n",
    "\n",
    "print(f\"ξ using the complex valued log: {-1 * np.exp(jacob(deltas)[-1])}\")\n",
    "\n",
    "ξ = -1 * np.exp(jacob(deltas)[-1])\n",
    "\n",
    "\n",
    "\n",
    "\n",
    "\n",
    "\n"
   ]
  },
  {
   "cell_type": "code",
   "execution_count": 2,
   "metadata": {},
   "outputs": [
    {
     "name": "stdout",
     "output_type": "stream",
     "text": [
      "[-0.82284349 -0.75446306 -3.68255123 -5.32440985 -0.21486053]\n",
      "Σ using the naive approach: 1.7461279887162404\n",
      "Σ using the complex valued log: 1.7461279887162406\n"
     ]
    },
    {
     "data": {
      "text/plain": [
       "'This only covers theta as a single value, we need a slightly more advanced approach for higher dimensional theta vectors'"
      ]
     },
     "execution_count": 2,
     "metadata": {},
     "output_type": "execute_result"
    }
   ],
   "source": [
    "'''How to compute the logarithm of the quantity Σ in Calvetti et al. using the complex valued logarithm and matrix exponentials.\n",
    "We have the quantity ξ from above and will resuse it here. '''\n",
    "\n",
    "\n",
    "psis = np.array(np.log(theta) - ξ)\n",
    "\n",
    "deltas = np.zeros(len(theta))\n",
    "for i in range(len(deltas)): \n",
    "    deltas[i] = np.log(weights[i]) + np.log(psis[i] ** 2)\n",
    "\n",
    "print(deltas)\n",
    "\n",
    "cov = 0\n",
    "for i in range(len(theta)):\n",
    "    cov += weights[i] * ((np.log(theta[i]) - ξ) ** 2)\n",
    "    \n",
    "\n",
    "print(f\"Σ using the naive approach: {cov}\")\n",
    "print(f\"Σ using the complex valued log: {np.exp(jacob(deltas)[-1])}\")\n",
    "\n",
    "'''This only covers theta as a single value, we need a slightly more advanced approach for higher dimensional theta vectors'''\n",
    "\n",
    "\n",
    "\n",
    "\n",
    "\n",
    "\n",
    "\n",
    "\n",
    "\n",
    "\n",
    "\n",
    "\n",
    "\n"
   ]
  },
  {
   "cell_type": "code",
   "execution_count": 27,
   "metadata": {},
   "outputs": [
    {
     "name": "stdout",
     "output_type": "stream",
     "text": [
      "ξ using the naive approach: [-1.61288322 -1.21041598]\n",
      "ξ using the complex valued log: [-1.61288322 -1.21041598]\n",
      "Σ using the naive approach: \n",
      "[[4.01271731 1.29766223]\n",
      " [1.29766223 3.17159   ]]\n",
      "[[4.01271731 2.25614023]\n",
      " [2.25614023 3.17159   ]]\n"
     ]
    }
   ],
   "source": [
    "'''For high dimensional theta, some log terms in the covariance matrix may be negative, requiring us to handle each case differently'''\n",
    "\n",
    "N = 5\n",
    "rng = np.random.default_rng(5)\n",
    "theta = np.array([[rng.uniform(0.,1.) for _ in range(2)] for _ in range(N)])\n",
    "weights = np.array([rng.uniform(0.,1.) for _ in range(N)])\n",
    "weights = weights / np.sum(weights)\n",
    "\n",
    "expectation_log_theta = 0\n",
    "for i in range(len(theta)): \n",
    "    expectation_log_theta += weights[i] * np.log(theta[i])\n",
    "\n",
    "print(f\"ξ using the naive approach: {expectation_log_theta}\")\n",
    "\n",
    "\n",
    "\n",
    "deltas = np.zeros((N,3))\n",
    "\n",
    "\n",
    "'''Theta matrix needs to be shape num_particles * len(theta)'''\n",
    "for i in range(theta.shape[1]): \n",
    "    sub_theta = theta[:,i]\n",
    "    for j in range(theta.shape[0]):\n",
    "        log_theta = np.log(sub_theta[j])\n",
    "        log_log = np.log(np.abs(log_theta))\n",
    "\n",
    "        deltas[j,i] = np.log(weights[j]) + log_log\n",
    "\n",
    "\n",
    "ξ = []\n",
    "for i in range(theta.shape[1]): \n",
    "   ξ.append(-1 * np.exp(jacob(deltas[:,i])))\n",
    "\n",
    "ξ = np.array(ξ)[:,-1]\n",
    "\n",
    "print(f\"ξ using the complex valued log: {ξ}\")\n",
    "\n",
    "'''Now for Σ '''\n",
    "psis = np.array(np.log(theta) - ξ)\n",
    "\n",
    "Σ = 0\n",
    "for i in range(N):\n",
    "    Σ += weights[i] * np.outer(psis[i,:] - ξ,psis[i,:]-ξ)\n",
    "\n",
    "print(f\"Σ using the naive approach: \\n{Σ}\")\n",
    "\n",
    "'''Using the jacobian logarithm'''\n",
    "\n",
    "matrix_set = []\n",
    "for i in range(np.shape(theta)[0]): \n",
    "    matrix_set.append(np.outer(psis[i,:] - ξ,psis[i,:]-ξ))\n",
    "matrix_set = np.array(matrix_set)\n",
    "\n",
    "\n",
    "for i in range(np.shape(theta)[0]):\n",
    "    matrix_set[i,:,:] = np.log(np.abs(matrix_set[i,:,:])) + np.full((np.shape(theta)[1],np.shape(theta)[1]),np.log(weights[i]))\n",
    "\n",
    "\n",
    "Σ = np.zeros((np.shape(theta)[1],np.shape(theta)[1]))\n",
    "for i in range(np.shape(theta)[1]): \n",
    "    for j in range(np.shape(theta)[1]): \n",
    "        deltas = matrix_set[:np.shape(theta)[0],i,j]\n",
    "        Σ[i,j] = np.exp(jacob(deltas)[-1])\n",
    "\n",
    "\n",
    "\n",
    "print(Σ)\n",
    "\n"
   ]
  }
 ],
 "metadata": {
  "kernelspec": {
   "display_name": ".venv",
   "language": "python",
   "name": "python3"
  },
  "language_info": {
   "codemirror_mode": {
    "name": "ipython",
    "version": 3
   },
   "file_extension": ".py",
   "mimetype": "text/x-python",
   "name": "python",
   "nbconvert_exporter": "python",
   "pygments_lexer": "ipython3",
   "version": "3.11.5"
  }
 },
 "nbformat": 4,
 "nbformat_minor": 2
}

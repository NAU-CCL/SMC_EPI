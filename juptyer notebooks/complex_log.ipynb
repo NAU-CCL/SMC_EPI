{
 "cells": [
  {
   "cell_type": "code",
   "execution_count": 6,
   "metadata": {},
   "outputs": [
    {
     "name": "stdout",
     "output_type": "stream",
     "text": [
      "Using the naive approach: -1.5990854435992887\n",
      "Using the complex valued log: -1.599085443599289\n"
     ]
    }
   ],
   "source": [
    "'''An analysis of how to compute the logarithm of the quantity ξ in Calvetti et. al. , uses the complex valued logarithm. \n",
    "As we end up exponentiating the result, Euler's identity results in a number of sign changes, but the results are identical to the lin domain. '''\n",
    "\n",
    "\n",
    "\n",
    "\n",
    "import sys\n",
    "sys.path.append('../')\n",
    "import matplotlib.pyplot as plt\n",
    "import numpy as np\n",
    "from utilities.Utils import jacob\n",
    "\n",
    "\n",
    "\n",
    "rng = np.random.default_rng(5)\n",
    "theta = np.array([rng.uniform(0.,1.) for _ in range(10)])\n",
    "weights = np.array([rng.uniform(0.,1.) for _ in range(10)])\n",
    "weights = weights / np.sum(weights)\n",
    "\n",
    "\n",
    "'''Computing ln(sum(weights * ln(theta)))'''\n",
    "\n",
    "\n",
    "\n",
    "expectation_log_theta = 0\n",
    "for i in range(len(theta)): \n",
    "    expectation_log_theta += weights[i] * np.log(theta[i])\n",
    "\n",
    "print(f\"Using the naive approach: {expectation_log_theta}\")\n",
    "\n",
    "deltas = np.zeros(len(theta))\n",
    "\n",
    "for i in range(len(deltas)): \n",
    "    log_theta = np.log(theta[i])\n",
    "    log_log = np.log(np.abs(log_theta))\n",
    "    deltas[i] = np.log(weights[i]) + log_log\n",
    "\n",
    "print(f\"ξ using the complex valued log: {-1 * np.exp(jacob(deltas)[-1])}\")\n",
    "\n",
    "ξ = -1 * np.exp(jacob(deltas)[-1])\n",
    "\n",
    "\n",
    "\n",
    "\n",
    "\n",
    "\n"
   ]
  },
  {
   "cell_type": "code",
   "execution_count": 9,
   "metadata": {},
   "outputs": [
    {
     "name": "stdout",
     "output_type": "stream",
     "text": [
      "Σ using the naive approach: 1.2239025881496943\n",
      "Σ using the complex valued log: 1.2239025881496943\n"
     ]
    }
   ],
   "source": [
    "'''How to compute the logarithm of the quantity Σ in Calvetti et al. using the complex valued logarithm and matrix exponentials.\n",
    "We have the quantity ξ from above and will resuse it here. '''\n",
    "\n",
    "\n",
    "psis = np.array(np.log(theta) - ξ)\n",
    "\n",
    "deltas = np.zeros(len(theta))\n",
    "for i in range(len(deltas)): \n",
    "    deltas[i] = np.log(weights[i]) + np.log(psis[i] ** 2)\n",
    "\n",
    "cov = 0\n",
    "for i in range(len(theta)):\n",
    "    cov += weights[i] * ((np.log(theta[i]) - ξ) ** 2)\n",
    "    \n",
    "\n",
    "print(f\"Σ using the naive approach: {cov}\")\n",
    "print(f\"Σ using the complex valued log: {np.exp(jacob(deltas)[-1])}\")\n",
    "\n",
    "'''This only covers theta as a single value, we need a slightly more advanced approach for higher dimensional theta vectors'''\n",
    "\n",
    "\n",
    "\n",
    "\n",
    "\n",
    "\n",
    "\n",
    "\n",
    "\n",
    "\n",
    "\n",
    "\n",
    "\n"
   ]
  },
  {
   "cell_type": "code",
   "execution_count": 29,
   "metadata": {},
   "outputs": [
    {
     "name": "stdout",
     "output_type": "stream",
     "text": [
      "Using the naive approach: [-0.40812203 -1.11460911 -1.74232264]\n",
      "Before: -1.7684427924691744\n",
      "After: [-3.29671846 -3.3136555  -2.17948881]\n",
      "Before: -8.148116312337034\n",
      "After: [-7.92300814 -7.07651374 -8.19023329]\n",
      "Before: -2.108860658714201\n",
      "After: [-2.21942473 -0.97907405 -1.00330853]\n",
      "Before: -2.2510031463474305\n",
      "After: [-9.35207074 -3.10163546 -1.87926292]\n",
      "Before: -3.015723454565371\n",
      "After: [-3.19900969 -6.65952132 -5.24186351]\n",
      "Before: -2.5465254681924163\n",
      "After: [-4.3224367  -2.61324058 -2.89296806]\n",
      "Before: -1.6378232898102256\n",
      "After: [-2.57804056 -0.60816071 -2.16933872]\n",
      "Before: -2.573002309202653\n",
      "After: [-2.30758777 -4.62693328 -1.56302919]\n",
      "Before: -3.325968934405775\n",
      "After: [-4.27564368 -5.29809738 -2.93297929]\n",
      "Before: -1.781221812359412\n",
      "After: [-3.98458747 -3.7708832  -0.39766763]\n"
     ]
    },
    {
     "ename": "ValueError",
     "evalue": "setting an array element with a sequence.",
     "output_type": "error",
     "traceback": [
      "\u001b[0;31m---------------------------------------------------------------------------\u001b[0m",
      "\u001b[0;31mTypeError\u001b[0m                                 Traceback (most recent call last)",
      "\u001b[0;31mTypeError\u001b[0m: only length-1 arrays can be converted to Python scalars",
      "\nThe above exception was the direct cause of the following exception:\n",
      "\u001b[0;31mValueError\u001b[0m                                Traceback (most recent call last)",
      "Cell \u001b[0;32mIn[29], line 27\u001b[0m\n\u001b[1;32m     21\u001b[0m     \u001b[38;5;28mprint\u001b[39m(\u001b[38;5;124mf\u001b[39m\u001b[38;5;124m\"\u001b[39m\u001b[38;5;124mAfter: \u001b[39m\u001b[38;5;132;01m{\u001b[39;00mlog_log\u001b[38;5;250m \u001b[39m\u001b[38;5;241m+\u001b[39m\u001b[38;5;250m \u001b[39mnp\u001b[38;5;241m.\u001b[39mlog(weights[i])\u001b[38;5;132;01m}\u001b[39;00m\u001b[38;5;124m\"\u001b[39m)\n\u001b[1;32m     22\u001b[0m     deltas[i,:] \u001b[38;5;241m=\u001b[39m np\u001b[38;5;241m.\u001b[39mlog(weights[i]) \u001b[38;5;241m+\u001b[39m log_log\n\u001b[0;32m---> 27\u001b[0m \u001b[38;5;28mprint\u001b[39m(\u001b[38;5;124mf\u001b[39m\u001b[38;5;124m\"\u001b[39m\u001b[38;5;124mξ using the complex valued log: \u001b[39m\u001b[38;5;132;01m{\u001b[39;00m\u001b[38;5;241m-\u001b[39m\u001b[38;5;241m1\u001b[39m\u001b[38;5;250m \u001b[39m\u001b[38;5;241m*\u001b[39m\u001b[38;5;250m \u001b[39mnp\u001b[38;5;241m.\u001b[39mexp(\u001b[43mjacob\u001b[49m\u001b[43m(\u001b[49m\u001b[43mdeltas\u001b[49m\u001b[43m)\u001b[49m[\u001b[38;5;241m-\u001b[39m\u001b[38;5;241m1\u001b[39m])\u001b[38;5;132;01m}\u001b[39;00m\u001b[38;5;124m\"\u001b[39m)\n\u001b[1;32m     29\u001b[0m ξ \u001b[38;5;241m=\u001b[39m \u001b[38;5;241m-\u001b[39m\u001b[38;5;241m1\u001b[39m \u001b[38;5;241m*\u001b[39m np\u001b[38;5;241m.\u001b[39mexp(jacob(deltas)[\u001b[38;5;241m-\u001b[39m\u001b[38;5;241m1\u001b[39m])\n",
      "File \u001b[0;32m~/SMC_EPI/SMC_EPI/juptyer notebooks/../utilities/Utils.py:77\u001b[0m, in \u001b[0;36mjacob\u001b[0;34m(δ)\u001b[0m\n\u001b[1;32m     75\u001b[0m n \u001b[38;5;241m=\u001b[39m \u001b[38;5;28mlen\u001b[39m(δ)\n\u001b[1;32m     76\u001b[0m Δ \u001b[38;5;241m=\u001b[39m np\u001b[38;5;241m.\u001b[39mzeros(n)\n\u001b[0;32m---> 77\u001b[0m \u001b[43mΔ\u001b[49m\u001b[43m[\u001b[49m\u001b[38;5;241;43m0\u001b[39;49m\u001b[43m]\u001b[49m \u001b[38;5;241m=\u001b[39m δ[\u001b[38;5;241m0\u001b[39m]\n\u001b[1;32m     78\u001b[0m \u001b[38;5;28;01mfor\u001b[39;00m i \u001b[38;5;129;01min\u001b[39;00m \u001b[38;5;28mrange\u001b[39m(\u001b[38;5;241m1\u001b[39m,n):\n\u001b[1;32m     79\u001b[0m     Δ[i] \u001b[38;5;241m=\u001b[39m \u001b[38;5;28mmax\u001b[39m(δ[i],Δ[i\u001b[38;5;241m-\u001b[39m\u001b[38;5;241m1\u001b[39m]) \u001b[38;5;241m+\u001b[39m np\u001b[38;5;241m.\u001b[39mlog(\u001b[38;5;241m1\u001b[39m \u001b[38;5;241m+\u001b[39m np\u001b[38;5;241m.\u001b[39mexp(\u001b[38;5;241m-\u001b[39m\u001b[38;5;241m1\u001b[39m\u001b[38;5;241m*\u001b[39mnp\u001b[38;5;241m.\u001b[39mabs(δ[i] \u001b[38;5;241m-\u001b[39m Δ[i\u001b[38;5;241m-\u001b[39m\u001b[38;5;241m1\u001b[39m])))\n",
      "\u001b[0;31mValueError\u001b[0m: setting an array element with a sequence."
     ]
    }
   ],
   "source": [
    "'''For high dimensional theta, some log terms in the covariance matrix may be negative, requiring us to handle each case differently'''\n",
    "\n",
    "\n",
    "rng = np.random.default_rng(5)\n",
    "theta = np.array([[rng.uniform(0.,1.) for _ in range(3)] for _ in range(10)])\n",
    "weights = np.array([rng.uniform(0.,1.) for _ in range(10)])\n",
    "weights = weights / np.sum(weights)\n",
    "\n",
    "expectation_log_theta = 0\n",
    "for i in range(len(theta)): \n",
    "    expectation_log_theta += weights[i] * np.log(theta[i])\n",
    "\n",
    "print(f\"Using the naive approach: {expectation_log_theta}\")\n",
    "\n",
    "deltas = np.zeros((10,3))\n",
    "\n",
    "'''Problem here, need to parallelize columnwise, i.e. for each element of theta'''\n",
    "\n",
    "\n",
    "for i in range(10): \n",
    "    log_theta = np.log(theta[i])\n",
    "    log_log = np.log(np.abs(log_theta))\n",
    "    print(f\"Before: {np.log(weights[i])}\")\n",
    "    print(f\"After: {log_log + np.log(weights[i])}\")\n",
    "    deltas[i,:] = np.log(weights[i]) + log_log\n",
    "\n",
    "\n",
    "\n",
    "\n",
    "print(f\"ξ using the complex valued log: {-1 * np.exp(jacob(deltas)[-1])}\")\n",
    "\n",
    "ξ = -1 * np.exp(jacob(deltas)[-1])\n",
    "\n"
   ]
  }
 ],
 "metadata": {
  "kernelspec": {
   "display_name": ".venv",
   "language": "python",
   "name": "python3"
  },
  "language_info": {
   "codemirror_mode": {
    "name": "ipython",
    "version": 3
   },
   "file_extension": ".py",
   "mimetype": "text/x-python",
   "name": "python",
   "nbconvert_exporter": "python",
   "pygments_lexer": "ipython3",
   "version": "3.11.5"
  }
 },
 "nbformat": 4,
 "nbformat_minor": 2
}

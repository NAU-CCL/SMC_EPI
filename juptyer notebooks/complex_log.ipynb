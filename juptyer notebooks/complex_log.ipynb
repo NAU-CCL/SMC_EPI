{
 "cells": [
  {
   "cell_type": "code",
   "execution_count": 4,
   "metadata": {},
   "outputs": [
    {
     "name": "stdout",
     "output_type": "stream",
     "text": [
      "Using the naive approach: -0.8013200993408716\n",
      "Using the complex valued log: [0.00407739 0.00981101 0.05806006 0.12942    0.13045597 0.13138254\n",
      " 0.13555039 0.14108073 0.14154575 0.14247123 0.14482613 0.14797821\n",
      " 0.15006212 0.15108422 0.15558342 0.17237925 0.17495383 0.17571735\n",
      " 0.19480947 0.19589105 0.21900333 0.23590181 0.24317129 0.24777864\n",
      " 0.25014565 0.25450587 0.2545526  0.25463492 0.25552057 0.257856\n",
      " 0.26197696 0.27183199 0.30235832 0.30580412 0.3093006  0.31840199\n",
      " 0.32952487 0.33090668 0.33213914 0.3392897  0.34511212 0.35779231\n",
      " 0.36610592 0.3690785  0.37625576 0.3782476  0.37944974 0.3867772\n",
      " 0.40615321 0.40901548 0.40906036 0.41889002 0.41908526 0.45396186\n",
      " 0.4595851  0.48466583 0.49884598 0.49938994 0.52328087 0.52659146\n",
      " 0.53308126 0.54616871 0.56826136 0.57826847 0.59592093 0.59823317\n",
      " 0.60642462 0.60739394 0.62411746 0.6457501  0.64875526 0.65017249\n",
      " 0.6550525  0.65521242 0.66670502 0.67978774 0.68579648 0.68588521\n",
      " 0.68679888 0.69774045 0.7022376  0.705488   0.70718034 0.71022257\n",
      " 0.72207042 0.72304129 0.72558077 0.72678695 0.749661   0.75310356\n",
      " 0.75337903 0.75370199 0.7952981  0.79554365 0.79589473 0.79636535\n",
      " 0.79659533 0.79699918 0.79914756 0.8013201 ]\n"
     ]
    }
   ],
   "source": [
    "import sys\n",
    "sys.path.append('../')\n",
    "import matplotlib.pyplot as plt\n",
    "import numpy as np\n",
    "from utilities.Utils import jacob\n",
    "\n",
    "\n",
    "\n",
    "rng = np.random.default_rng(0)\n",
    "theta = np.array([rng.uniform(0.,1.) for _ in range(100)])\n",
    "weights = np.array([rng.uniform(0.,1.) for _ in range(100)])\n",
    "weights = weights / np.sum(weights)\n",
    "\n",
    "'''Computing ln(sum(weights * ln(theta)))'''\n",
    "\n",
    "\n",
    "\n",
    "expectation_log_theta = 0\n",
    "for i in range(len(theta)): \n",
    "    expectation_log_theta += weights[i] * np.log(theta[i])\n",
    "\n",
    "print(f\"Using the naive approach: {expectation_log_theta}\")\n",
    "\n",
    "deltas = np.zeros(len(theta))\n",
    "\n",
    "for i in range(len(deltas)): \n",
    "    log_theta = np.log(theta[i])\n",
    "    log_log = np.log(np.abs(log_theta)) + 1j * np.pi\n",
    "    deltas[i] = np.log(weights[i]) + np.real(log_log)\n",
    "\n",
    "print(f\"Using the complex valued log: {np.exp(jacob(deltas))}\")\n",
    "\n",
    "\n",
    "\n",
    "\n",
    "\n",
    "\n",
    "\n",
    "\n"
   ]
  }
 ],
 "metadata": {
  "kernelspec": {
   "display_name": ".venv",
   "language": "python",
   "name": "python3"
  },
  "language_info": {
   "codemirror_mode": {
    "name": "ipython",
    "version": 3
   },
   "file_extension": ".py",
   "mimetype": "text/x-python",
   "name": "python",
   "nbconvert_exporter": "python",
   "pygments_lexer": "ipython3",
   "version": "3.11.3"
  }
 },
 "nbformat": 4,
 "nbformat_minor": 2
}

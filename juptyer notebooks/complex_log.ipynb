{
 "cells": [
  {
   "cell_type": "code",
   "execution_count": 12,
   "metadata": {},
   "outputs": [
    {
     "name": "stdout",
     "output_type": "stream",
     "text": [
      "Using the naive approach: -0.8013200993408716\n",
      "Using the complex valued log: -0.8013200993408721\n"
     ]
    }
   ],
   "source": [
    "import sys\n",
    "sys.path.append('../')\n",
    "import matplotlib.pyplot as plt\n",
    "import numpy as np\n",
    "from utilities.Utils import jacob\n",
    "\n",
    "\n",
    "\n",
    "rng = np.random.default_rng(0)\n",
    "theta = np.array([rng.uniform(0.,1.) for _ in range(100)])\n",
    "weights = np.array([rng.uniform(0.,1.) for _ in range(100)])\n",
    "weights = weights / np.sum(weights)\n",
    "\n",
    "'''Computing ln(sum(weights * ln(theta)))'''\n",
    "\n",
    "\n",
    "\n",
    "expectation_log_theta = 0\n",
    "for i in range(len(theta)): \n",
    "    expectation_log_theta += weights[i] * np.log(theta[i])\n",
    "\n",
    "print(f\"Using the naive approach: {expectation_log_theta}\")\n",
    "\n",
    "deltas = np.zeros(len(theta))\n",
    "\n",
    "for i in range(len(deltas)): \n",
    "    log_theta = np.log(theta[i])\n",
    "    log_log = np.log(np.abs(log_theta))\n",
    "    deltas[i] = np.log(weights[i]) + log_log\n",
    "\n",
    "print(f\"Using the complex valued log: {-1 * np.exp(jacob(deltas)[-1])}\")\n",
    "\n",
    "\n",
    "\n",
    "\n",
    "\n",
    "\n",
    "\n",
    "\n"
   ]
  }
 ],
 "metadata": {
  "kernelspec": {
   "display_name": ".venv",
   "language": "python",
   "name": "python3"
  },
  "language_info": {
   "codemirror_mode": {
    "name": "ipython",
    "version": 3
   },
   "file_extension": ".py",
   "mimetype": "text/x-python",
   "name": "python",
   "nbconvert_exporter": "python",
   "pygments_lexer": "ipython3",
   "version": "3.11.3"
  }
 },
 "nbformat": 4,
 "nbformat_minor": 2
}
